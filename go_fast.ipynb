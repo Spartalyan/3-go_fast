{
 "cells": [
  {
   "cell_type": "markdown",
   "id": "f8733065",
   "metadata": {},
   "source": [
    "# Исследование сервиса аренды самокатов GoFast.\n",
    "\n",
    "В нашем распоряжении данные о некоторых пользователях из нескольких городов, а также об их поездках. Проанализируйем данные и проверим некоторые гипотезы, которые могут помочь бизнесу вырасти.\n",
    "\n",
    "Данные состят из 3 массивов с информацией о поездках, покупателях и  тарифах.\n",
    "\n",
    "**Цель проекта:**\n",
    "\n",
    "- Проанализировать данные пользователей приложения.\n",
    "- Рассмотреть различия и общие закономерности для пользователей без подписки и с.\n",
    "\n",
    "**Ход проекта:**\n",
    "\n",
    "1. Загрузка данных\n",
    "   \n",
    "    * Загрузить данные\n",
    "    * Проанализировать данные и конкретизировать план работ.\n",
    "\n",
    "2. Предобработка данных\n",
    "   \n",
    "    *  Поправить форматы. \n",
    "    *  Создание новых признаков, при необходимости.\n",
    "    *  Проверить наличие пропущенных значений и дубликатов в датафреймах. Обработать их, если такие значения присутствуют.\n",
    "\n",
    "3. Исследовательский анализ данных\n",
    "\n",
    "Описать и визуализировать общую информацию о пользователях и поездках:\n",
    "\n",
    "   *  частота встречаемости городов;\n",
    "   *  соотношение пользователей с подпиской и без подписки;\n",
    "   *  возраст пользователей;\n",
    "   *  расстояние, которое пользователь преодолел за одну поездку;\n",
    "   *  продолжительность поездок.\n",
    "\n",
    "\n",
    "4. Объединение данных\n",
    "\n",
    "    *  Объедините данные о пользователях, поездках и подписках в один датафрейм. \n",
    "    *  Исследовать  информацию о поездках и покупателях. Визулизировать при необходимости.\n",
    "\n",
    "5. Подсчёт выручки\n",
    "\n",
    "6. Проверка гипотез\n"
   ]
  },
  {
   "cell_type": "markdown",
   "id": "ead6a663-65e0-4bd5-98a5-8c7d3938a9a4",
   "metadata": {},
   "source": [
    "## Загрузка данных \n",
    "([к содержанию](#1))"
   ]
  },
  {
   "cell_type": "code",
   "execution_count": 1,
   "id": "c75a37bd",
   "metadata": {},
   "outputs": [],
   "source": [
    "#Импортирую необходимые нам бибилиотеки\n",
    "\n",
    "import pandas as pd\n",
    "import matplotlib.pyplot as plt\n",
    "import numpy as np\n",
    "from scipy.stats import binom\n",
    "from scipy import stats as st"
   ]
  },
  {
   "cell_type": "code",
   "execution_count": 2,
   "id": "c87db167",
   "metadata": {},
   "outputs": [],
   "source": [
    "#Выгружаю данные\n",
    "try:\n",
    "    users = pd.read_csv('/Users/mariaspartalan/Desktop/готовые проекты/3 go_fast/users_go.csv')\n",
    "    rides_go = pd.read_csv('/Users/mariaspartalan/Desktop/готовые проекты/3 go_fast/rides_go.csv')\n",
    "    subscriptons = pd.read_csv('/Users/mariaspartalan/Desktop/готовые проекты/3 go_fast/subscriptions_go.csv')\n",
    "except:\n",
    "    users = pd.read_csv('/datasets/users_go.csv')\n",
    "    rides_go = pd.read_csv('/datasets/rides_go.csv')\n",
    "    subscriptons = pd.read_csv('/datasets/subscriptions_go.csv')"
   ]
  },
  {
   "cell_type": "markdown",
   "id": "2f091eae",
   "metadata": {},
   "source": [
    "Рассмотрим повнимательнее каждый из них."
   ]
  },
  {
   "cell_type": "code",
   "execution_count": 3,
   "id": "524822e5",
   "metadata": {},
   "outputs": [
    {
     "data": {
      "text/html": [
       "<div>\n",
       "<style scoped>\n",
       "    .dataframe tbody tr th:only-of-type {\n",
       "        vertical-align: middle;\n",
       "    }\n",
       "\n",
       "    .dataframe tbody tr th {\n",
       "        vertical-align: top;\n",
       "    }\n",
       "\n",
       "    .dataframe thead th {\n",
       "        text-align: right;\n",
       "    }\n",
       "</style>\n",
       "<table border=\"1\" class=\"dataframe\">\n",
       "  <thead>\n",
       "    <tr style=\"text-align: right;\">\n",
       "      <th></th>\n",
       "      <th>user_id</th>\n",
       "      <th>name</th>\n",
       "      <th>age</th>\n",
       "      <th>city</th>\n",
       "      <th>subscription_type</th>\n",
       "    </tr>\n",
       "  </thead>\n",
       "  <tbody>\n",
       "    <tr>\n",
       "      <th>0</th>\n",
       "      <td>1</td>\n",
       "      <td>Кира</td>\n",
       "      <td>22</td>\n",
       "      <td>Тюмень</td>\n",
       "      <td>ultra</td>\n",
       "    </tr>\n",
       "    <tr>\n",
       "      <th>1</th>\n",
       "      <td>2</td>\n",
       "      <td>Станислав</td>\n",
       "      <td>31</td>\n",
       "      <td>Омск</td>\n",
       "      <td>ultra</td>\n",
       "    </tr>\n",
       "    <tr>\n",
       "      <th>2</th>\n",
       "      <td>3</td>\n",
       "      <td>Алексей</td>\n",
       "      <td>20</td>\n",
       "      <td>Москва</td>\n",
       "      <td>ultra</td>\n",
       "    </tr>\n",
       "    <tr>\n",
       "      <th>3</th>\n",
       "      <td>4</td>\n",
       "      <td>Константин</td>\n",
       "      <td>26</td>\n",
       "      <td>Ростов-на-Дону</td>\n",
       "      <td>ultra</td>\n",
       "    </tr>\n",
       "    <tr>\n",
       "      <th>4</th>\n",
       "      <td>5</td>\n",
       "      <td>Адель</td>\n",
       "      <td>28</td>\n",
       "      <td>Омск</td>\n",
       "      <td>ultra</td>\n",
       "    </tr>\n",
       "  </tbody>\n",
       "</table>\n",
       "</div>"
      ],
      "text/plain": [
       "   user_id        name  age            city subscription_type\n",
       "0        1        Кира   22          Тюмень             ultra\n",
       "1        2   Станислав   31            Омск             ultra\n",
       "2        3     Алексей   20          Москва             ultra\n",
       "3        4  Константин   26  Ростов-на-Дону             ultra\n",
       "4        5       Адель   28            Омск             ultra"
      ]
     },
     "execution_count": 3,
     "metadata": {},
     "output_type": "execute_result"
    }
   ],
   "source": [
    "users.head()"
   ]
  },
  {
   "cell_type": "code",
   "execution_count": 4,
   "id": "d78d2f25",
   "metadata": {},
   "outputs": [
    {
     "name": "stdout",
     "output_type": "stream",
     "text": [
      "<class 'pandas.core.frame.DataFrame'>\n",
      "RangeIndex: 1565 entries, 0 to 1564\n",
      "Data columns (total 5 columns):\n",
      " #   Column             Non-Null Count  Dtype \n",
      "---  ------             --------------  ----- \n",
      " 0   user_id            1565 non-null   int64 \n",
      " 1   name               1565 non-null   object\n",
      " 2   age                1565 non-null   int64 \n",
      " 3   city               1565 non-null   object\n",
      " 4   subscription_type  1565 non-null   object\n",
      "dtypes: int64(2), object(3)\n",
      "memory usage: 61.3+ KB\n"
     ]
    }
   ],
   "source": [
    "users.info()"
   ]
  },
  {
   "cell_type": "markdown",
   "id": "e0bc97c1",
   "metadata": {},
   "source": [
    "В этом датафрейме предcтавлены данные о 1565 пользователях.   \n",
    "\n",
    "* user_id -\tуникальный идентификатор пользователя\n",
    "* name - имя пользователя\n",
    "* age -\tвозраст\n",
    "* city - город\n",
    "* subscription_type\t- тип подписки (free, ultra)\n",
    "\n",
    "  На первый взгляд пропуски отсутсвуют. "
   ]
  },
  {
   "cell_type": "code",
   "execution_count": 5,
   "id": "1b169a70",
   "metadata": {},
   "outputs": [
    {
     "data": {
      "text/html": [
       "<div>\n",
       "<style scoped>\n",
       "    .dataframe tbody tr th:only-of-type {\n",
       "        vertical-align: middle;\n",
       "    }\n",
       "\n",
       "    .dataframe tbody tr th {\n",
       "        vertical-align: top;\n",
       "    }\n",
       "\n",
       "    .dataframe thead th {\n",
       "        text-align: right;\n",
       "    }\n",
       "</style>\n",
       "<table border=\"1\" class=\"dataframe\">\n",
       "  <thead>\n",
       "    <tr style=\"text-align: right;\">\n",
       "      <th></th>\n",
       "      <th>user_id</th>\n",
       "      <th>distance</th>\n",
       "      <th>duration</th>\n",
       "      <th>date</th>\n",
       "    </tr>\n",
       "  </thead>\n",
       "  <tbody>\n",
       "    <tr>\n",
       "      <th>0</th>\n",
       "      <td>1</td>\n",
       "      <td>4409.919140</td>\n",
       "      <td>25.599769</td>\n",
       "      <td>2021-01-01</td>\n",
       "    </tr>\n",
       "    <tr>\n",
       "      <th>1</th>\n",
       "      <td>1</td>\n",
       "      <td>2617.592153</td>\n",
       "      <td>15.816871</td>\n",
       "      <td>2021-01-18</td>\n",
       "    </tr>\n",
       "    <tr>\n",
       "      <th>2</th>\n",
       "      <td>1</td>\n",
       "      <td>754.159807</td>\n",
       "      <td>6.232113</td>\n",
       "      <td>2021-04-20</td>\n",
       "    </tr>\n",
       "    <tr>\n",
       "      <th>3</th>\n",
       "      <td>1</td>\n",
       "      <td>2694.783254</td>\n",
       "      <td>18.511000</td>\n",
       "      <td>2021-08-11</td>\n",
       "    </tr>\n",
       "    <tr>\n",
       "      <th>4</th>\n",
       "      <td>1</td>\n",
       "      <td>4028.687306</td>\n",
       "      <td>26.265803</td>\n",
       "      <td>2021-08-28</td>\n",
       "    </tr>\n",
       "  </tbody>\n",
       "</table>\n",
       "</div>"
      ],
      "text/plain": [
       "   user_id     distance   duration        date\n",
       "0        1  4409.919140  25.599769  2021-01-01\n",
       "1        1  2617.592153  15.816871  2021-01-18\n",
       "2        1   754.159807   6.232113  2021-04-20\n",
       "3        1  2694.783254  18.511000  2021-08-11\n",
       "4        1  4028.687306  26.265803  2021-08-28"
      ]
     },
     "execution_count": 5,
     "metadata": {},
     "output_type": "execute_result"
    }
   ],
   "source": [
    "rides_go.head()\n"
   ]
  },
  {
   "cell_type": "code",
   "execution_count": 6,
   "id": "82934325",
   "metadata": {
    "scrolled": true
   },
   "outputs": [
    {
     "name": "stdout",
     "output_type": "stream",
     "text": [
      "<class 'pandas.core.frame.DataFrame'>\n",
      "RangeIndex: 18068 entries, 0 to 18067\n",
      "Data columns (total 4 columns):\n",
      " #   Column    Non-Null Count  Dtype  \n",
      "---  ------    --------------  -----  \n",
      " 0   user_id   18068 non-null  int64  \n",
      " 1   distance  18068 non-null  float64\n",
      " 2   duration  18068 non-null  float64\n",
      " 3   date      18068 non-null  object \n",
      "dtypes: float64(2), int64(1), object(1)\n",
      "memory usage: 564.8+ KB\n"
     ]
    }
   ],
   "source": [
    "rides_go.info()"
   ]
  },
  {
   "cell_type": "markdown",
   "id": "b02d0b24",
   "metadata": {},
   "source": [
    "Здесь представлена информация о 18068 поездках:\n",
    "\n",
    "* user_id -\tуникальный идентификатор пользователя\n",
    "* distance - расстояние, которое пользователь проехал в текущей сессии (в метрах)\n",
    "* duration - продолжительность сессии (в минутах) — время с того момента, как пользователь нажал кнопку «Начать поездку» до момента, как он нажал кнопку «Завершить поездку»\n",
    "* date - дата совершения поездки\n",
    "\n",
    "    Пропуски отсутсвуют. Нужно будет привести данные в графе date к временному типу данных."
   ]
  },
  {
   "cell_type": "code",
   "execution_count": 7,
   "id": "9bc33bc8",
   "metadata": {
    "scrolled": true
   },
   "outputs": [
    {
     "data": {
      "text/html": [
       "<div>\n",
       "<style scoped>\n",
       "    .dataframe tbody tr th:only-of-type {\n",
       "        vertical-align: middle;\n",
       "    }\n",
       "\n",
       "    .dataframe tbody tr th {\n",
       "        vertical-align: top;\n",
       "    }\n",
       "\n",
       "    .dataframe thead th {\n",
       "        text-align: right;\n",
       "    }\n",
       "</style>\n",
       "<table border=\"1\" class=\"dataframe\">\n",
       "  <thead>\n",
       "    <tr style=\"text-align: right;\">\n",
       "      <th></th>\n",
       "      <th>subscription_type</th>\n",
       "      <th>minute_price</th>\n",
       "      <th>start_ride_price</th>\n",
       "      <th>subscription_fee</th>\n",
       "    </tr>\n",
       "  </thead>\n",
       "  <tbody>\n",
       "    <tr>\n",
       "      <th>0</th>\n",
       "      <td>free</td>\n",
       "      <td>8</td>\n",
       "      <td>50</td>\n",
       "      <td>0</td>\n",
       "    </tr>\n",
       "    <tr>\n",
       "      <th>1</th>\n",
       "      <td>ultra</td>\n",
       "      <td>6</td>\n",
       "      <td>0</td>\n",
       "      <td>199</td>\n",
       "    </tr>\n",
       "  </tbody>\n",
       "</table>\n",
       "</div>"
      ],
      "text/plain": [
       "  subscription_type  minute_price  start_ride_price  subscription_fee\n",
       "0              free             8                50                 0\n",
       "1             ultra             6                 0               199"
      ]
     },
     "execution_count": 7,
     "metadata": {},
     "output_type": "execute_result"
    }
   ],
   "source": [
    "subscriptons.head(15)"
   ]
  },
  {
   "cell_type": "markdown",
   "id": "43d96609",
   "metadata": {},
   "source": [
    "Чтобы совершать поездки по городу, пользователи сервиса GoFast пользуются мобильным приложением. Сервисом можно пользоваться:\n",
    "\n",
    "- без подписки \n",
    "    абонентская плата отсутствует;\n",
    "    стоимость одной минуты поездки — 8 рублей;\n",
    "    стоимость старта (начала поездки) — 50 рублей;\n",
    "- с подпиской Ultra \n",
    "    абонентская плата — 199 рублей в месяц;\n",
    "    стоимость одной минуты поездки — 6 рублей;\n",
    "    стоимость старта — бесплатно.\n",
    "\n",
    "Это, судя по данным, таблица с расшифровкой тарифов:\n",
    "\n",
    "* subscription_type\t- тип подписки\n",
    "* minute_price\tстоимость  - одной минуты поездки по данной подписке\n",
    "* start_ride_price\t- стоимость начала поездки\n",
    "* subscription_fee\t- стоимость ежемесячного платежа"
   ]
  },
  {
   "cell_type": "markdown",
   "id": "e327bfa9",
   "metadata": {},
   "source": [
    "_____________\n",
    "**Прoмежуточный вывод:**\n",
    "\n",
    "- Мы импортипровали массивы данных и рассмотрели их чуть подробнее. \n",
    "- Пропусков не выявлено.\n",
    "- В таблице rides_gp нужно привести данные в графе date к временному типу данных."
   ]
  },
  {
   "cell_type": "markdown",
   "id": "8b602fca",
   "metadata": {},
   "source": [
    "## Предобработка данных.\n",
    "\n",
    "Меняем формат в таблице rides_go, в графе date.\n",
    "\n",
    "Рассмотрим временной диапазон данных.\n",
    "\n",
    "Добавим столбец в котором будет указан просто месяц."
   ]
  },
  {
   "cell_type": "code",
   "execution_count": 8,
   "id": "a8dc2f87",
   "metadata": {},
   "outputs": [
    {
     "name": "stdout",
     "output_type": "stream",
     "text": [
      "Диапазон дат 2021-01-01 00:00:00 - 2021-12-30 00:00:00\n"
     ]
    }
   ],
   "source": [
    "#меняем формат данных в столбце\n",
    "rides_go['date'] = pd.to_datetime(\n",
    "    rides_go['date'], format = '%Y-%m-%d')\n",
    "\n",
    "print('Диапазон дат', rides_go['date'].min(), '-', rides_go['date'].max())"
   ]
  },
  {
   "cell_type": "markdown",
   "id": "ba2da3bb",
   "metadata": {},
   "source": [
    "В данных представлена информация о поездках совершенных с 1-го января 2021 года по 30-е декабря 2021.\n",
    "\n",
    "Почти целый год.\n",
    "\n",
    "Добавим столбец в котором будет указан просто месяц."
   ]
  },
  {
   "cell_type": "code",
   "execution_count": 9,
   "id": "f40f4d6f",
   "metadata": {},
   "outputs": [],
   "source": [
    "\n",
    "rides_go['month'] = pd.DatetimeIndex(rides_go['date']).month\n"
   ]
  },
  {
   "cell_type": "markdown",
   "id": "34857a7a",
   "metadata": {},
   "source": [
    "Округлим значения в столбце в длительностью поездки до целых минут."
   ]
  },
  {
   "cell_type": "code",
   "execution_count": 10,
   "id": "1a7e9e5d",
   "metadata": {},
   "outputs": [],
   "source": [
    "rides_go['duration'] = np.ceil(rides_go['duration']) "
   ]
  },
  {
   "cell_type": "markdown",
   "id": "3204d47d",
   "metadata": {},
   "source": [
    "Проверим датафреймы на на наличиe пропусков"
   ]
  },
  {
   "cell_type": "code",
   "execution_count": 11,
   "id": "ec8f1ac7",
   "metadata": {},
   "outputs": [
    {
     "name": "stdout",
     "output_type": "stream",
     "text": [
      "Количество пропусков в таблице с данными о пользователях: user_id              0\n",
      "name                 0\n",
      "age                  0\n",
      "city                 0\n",
      "subscription_type    0\n",
      "dtype: int64\n",
      "user_id              0\n",
      "name                 0\n",
      "age                  0\n",
      "city                 0\n",
      "subscription_type    0\n",
      "dtype: int64\n"
     ]
    }
   ],
   "source": [
    "print('Количество пропусков в таблице с данными о пользователях:', users.isna().sum())\n",
    "print(users.isna().sum())"
   ]
  },
  {
   "cell_type": "code",
   "execution_count": 12,
   "id": "56163b05",
   "metadata": {},
   "outputs": [
    {
     "name": "stdout",
     "output_type": "stream",
     "text": [
      "Количество пропусков в таблице с данными о поездках:\n",
      "user_id     0\n",
      "distance    0\n",
      "duration    0\n",
      "date        0\n",
      "month       0\n",
      "dtype: int64\n"
     ]
    }
   ],
   "source": [
    "print('Количество пропусков в таблице с данными о поездках:')\n",
    "print(rides_go.isna().sum())"
   ]
  },
  {
   "cell_type": "markdown",
   "id": "5e862f0c",
   "metadata": {},
   "source": [
    "Проверим датафреймы на на наличиe дублей"
   ]
  },
  {
   "cell_type": "code",
   "execution_count": 13,
   "id": "5a417f8a",
   "metadata": {},
   "outputs": [
    {
     "name": "stdout",
     "output_type": "stream",
     "text": [
      "Количество дублей в таблице с данными о пользователях: 31\n"
     ]
    }
   ],
   "source": [
    "print('Количество дублей в таблице с данными о пользователях:', users.duplicated().sum())"
   ]
  },
  {
   "cell_type": "code",
   "execution_count": 14,
   "id": "a87a7874",
   "metadata": {},
   "outputs": [
    {
     "data": {
      "text/html": [
       "<div>\n",
       "<style scoped>\n",
       "    .dataframe tbody tr th:only-of-type {\n",
       "        vertical-align: middle;\n",
       "    }\n",
       "\n",
       "    .dataframe tbody tr th {\n",
       "        vertical-align: top;\n",
       "    }\n",
       "\n",
       "    .dataframe thead th {\n",
       "        text-align: right;\n",
       "    }\n",
       "</style>\n",
       "<table border=\"1\" class=\"dataframe\">\n",
       "  <thead>\n",
       "    <tr style=\"text-align: right;\">\n",
       "      <th></th>\n",
       "      <th>user_id</th>\n",
       "      <th>name</th>\n",
       "      <th>age</th>\n",
       "      <th>city</th>\n",
       "      <th>subscription_type</th>\n",
       "    </tr>\n",
       "  </thead>\n",
       "  <tbody>\n",
       "    <tr>\n",
       "      <th>1534</th>\n",
       "      <td>293</td>\n",
       "      <td>Агата</td>\n",
       "      <td>26</td>\n",
       "      <td>Краснодар</td>\n",
       "      <td>ultra</td>\n",
       "    </tr>\n",
       "    <tr>\n",
       "      <th>1535</th>\n",
       "      <td>16</td>\n",
       "      <td>Амалия</td>\n",
       "      <td>27</td>\n",
       "      <td>Краснодар</td>\n",
       "      <td>ultra</td>\n",
       "    </tr>\n",
       "    <tr>\n",
       "      <th>1536</th>\n",
       "      <td>909</td>\n",
       "      <td>Константин</td>\n",
       "      <td>20</td>\n",
       "      <td>Екатеринбург</td>\n",
       "      <td>free</td>\n",
       "    </tr>\n",
       "    <tr>\n",
       "      <th>1537</th>\n",
       "      <td>403</td>\n",
       "      <td>Полина</td>\n",
       "      <td>19</td>\n",
       "      <td>Сочи</td>\n",
       "      <td>ultra</td>\n",
       "    </tr>\n",
       "    <tr>\n",
       "      <th>1538</th>\n",
       "      <td>908</td>\n",
       "      <td>Рустам</td>\n",
       "      <td>30</td>\n",
       "      <td>Тюмень</td>\n",
       "      <td>free</td>\n",
       "    </tr>\n",
       "    <tr>\n",
       "      <th>1539</th>\n",
       "      <td>43</td>\n",
       "      <td>Стефания</td>\n",
       "      <td>22</td>\n",
       "      <td>Омск</td>\n",
       "      <td>ultra</td>\n",
       "    </tr>\n",
       "    <tr>\n",
       "      <th>1540</th>\n",
       "      <td>127</td>\n",
       "      <td>Павел</td>\n",
       "      <td>25</td>\n",
       "      <td>Пятигорск</td>\n",
       "      <td>ultra</td>\n",
       "    </tr>\n",
       "    <tr>\n",
       "      <th>1541</th>\n",
       "      <td>659</td>\n",
       "      <td>Злата</td>\n",
       "      <td>27</td>\n",
       "      <td>Ростов-на-Дону</td>\n",
       "      <td>ultra</td>\n",
       "    </tr>\n",
       "    <tr>\n",
       "      <th>1542</th>\n",
       "      <td>204</td>\n",
       "      <td>Руслан</td>\n",
       "      <td>30</td>\n",
       "      <td>Пятигорск</td>\n",
       "      <td>ultra</td>\n",
       "    </tr>\n",
       "    <tr>\n",
       "      <th>1543</th>\n",
       "      <td>153</td>\n",
       "      <td>Герман</td>\n",
       "      <td>23</td>\n",
       "      <td>Москва</td>\n",
       "      <td>ultra</td>\n",
       "    </tr>\n",
       "    <tr>\n",
       "      <th>1544</th>\n",
       "      <td>1245</td>\n",
       "      <td>Регина</td>\n",
       "      <td>27</td>\n",
       "      <td>Пятигорск</td>\n",
       "      <td>free</td>\n",
       "    </tr>\n",
       "    <tr>\n",
       "      <th>1545</th>\n",
       "      <td>807</td>\n",
       "      <td>Александр</td>\n",
       "      <td>28</td>\n",
       "      <td>Екатеринбург</td>\n",
       "      <td>free</td>\n",
       "    </tr>\n",
       "    <tr>\n",
       "      <th>1546</th>\n",
       "      <td>924</td>\n",
       "      <td>Мария</td>\n",
       "      <td>23</td>\n",
       "      <td>Пятигорск</td>\n",
       "      <td>free</td>\n",
       "    </tr>\n",
       "    <tr>\n",
       "      <th>1547</th>\n",
       "      <td>635</td>\n",
       "      <td>Герман</td>\n",
       "      <td>21</td>\n",
       "      <td>Москва</td>\n",
       "      <td>ultra</td>\n",
       "    </tr>\n",
       "    <tr>\n",
       "      <th>1548</th>\n",
       "      <td>136</td>\n",
       "      <td>Марсель</td>\n",
       "      <td>25</td>\n",
       "      <td>Тюмень</td>\n",
       "      <td>ultra</td>\n",
       "    </tr>\n",
       "    <tr>\n",
       "      <th>1549</th>\n",
       "      <td>108</td>\n",
       "      <td>Влада</td>\n",
       "      <td>29</td>\n",
       "      <td>Тюмень</td>\n",
       "      <td>ultra</td>\n",
       "    </tr>\n",
       "    <tr>\n",
       "      <th>1550</th>\n",
       "      <td>737</td>\n",
       "      <td>Мелания</td>\n",
       "      <td>27</td>\n",
       "      <td>Ростов-на-Дону</td>\n",
       "      <td>free</td>\n",
       "    </tr>\n",
       "    <tr>\n",
       "      <th>1551</th>\n",
       "      <td>666</td>\n",
       "      <td>Зарина</td>\n",
       "      <td>29</td>\n",
       "      <td>Москва</td>\n",
       "      <td>ultra</td>\n",
       "    </tr>\n",
       "    <tr>\n",
       "      <th>1552</th>\n",
       "      <td>297</td>\n",
       "      <td>Егор</td>\n",
       "      <td>33</td>\n",
       "      <td>Пятигорск</td>\n",
       "      <td>ultra</td>\n",
       "    </tr>\n",
       "    <tr>\n",
       "      <th>1553</th>\n",
       "      <td>121</td>\n",
       "      <td>Алина</td>\n",
       "      <td>25</td>\n",
       "      <td>Пятигорск</td>\n",
       "      <td>ultra</td>\n",
       "    </tr>\n",
       "    <tr>\n",
       "      <th>1554</th>\n",
       "      <td>1198</td>\n",
       "      <td>Демид</td>\n",
       "      <td>29</td>\n",
       "      <td>Ростов-на-Дону</td>\n",
       "      <td>free</td>\n",
       "    </tr>\n",
       "    <tr>\n",
       "      <th>1555</th>\n",
       "      <td>72</td>\n",
       "      <td>Никита</td>\n",
       "      <td>25</td>\n",
       "      <td>Москва</td>\n",
       "      <td>ultra</td>\n",
       "    </tr>\n",
       "    <tr>\n",
       "      <th>1556</th>\n",
       "      <td>422</td>\n",
       "      <td>Кирилл</td>\n",
       "      <td>27</td>\n",
       "      <td>Сочи</td>\n",
       "      <td>ultra</td>\n",
       "    </tr>\n",
       "    <tr>\n",
       "      <th>1557</th>\n",
       "      <td>611</td>\n",
       "      <td>Владимир</td>\n",
       "      <td>28</td>\n",
       "      <td>Омск</td>\n",
       "      <td>ultra</td>\n",
       "    </tr>\n",
       "    <tr>\n",
       "      <th>1558</th>\n",
       "      <td>1237</td>\n",
       "      <td>Евгения</td>\n",
       "      <td>23</td>\n",
       "      <td>Тюмень</td>\n",
       "      <td>free</td>\n",
       "    </tr>\n",
       "    <tr>\n",
       "      <th>1559</th>\n",
       "      <td>209</td>\n",
       "      <td>Андрей</td>\n",
       "      <td>23</td>\n",
       "      <td>Омск</td>\n",
       "      <td>ultra</td>\n",
       "    </tr>\n",
       "    <tr>\n",
       "      <th>1560</th>\n",
       "      <td>829</td>\n",
       "      <td>Федор</td>\n",
       "      <td>29</td>\n",
       "      <td>Пятигорск</td>\n",
       "      <td>free</td>\n",
       "    </tr>\n",
       "    <tr>\n",
       "      <th>1561</th>\n",
       "      <td>809</td>\n",
       "      <td>Юрий</td>\n",
       "      <td>26</td>\n",
       "      <td>Сочи</td>\n",
       "      <td>free</td>\n",
       "    </tr>\n",
       "    <tr>\n",
       "      <th>1562</th>\n",
       "      <td>307</td>\n",
       "      <td>Ясмина</td>\n",
       "      <td>19</td>\n",
       "      <td>Краснодар</td>\n",
       "      <td>ultra</td>\n",
       "    </tr>\n",
       "    <tr>\n",
       "      <th>1563</th>\n",
       "      <td>47</td>\n",
       "      <td>Юрий</td>\n",
       "      <td>28</td>\n",
       "      <td>Тюмень</td>\n",
       "      <td>ultra</td>\n",
       "    </tr>\n",
       "    <tr>\n",
       "      <th>1564</th>\n",
       "      <td>1045</td>\n",
       "      <td>Артемий</td>\n",
       "      <td>28</td>\n",
       "      <td>Ростов-на-Дону</td>\n",
       "      <td>free</td>\n",
       "    </tr>\n",
       "  </tbody>\n",
       "</table>\n",
       "</div>"
      ],
      "text/plain": [
       "      user_id        name  age            city subscription_type\n",
       "1534      293       Агата   26       Краснодар             ultra\n",
       "1535       16      Амалия   27       Краснодар             ultra\n",
       "1536      909  Константин   20    Екатеринбург              free\n",
       "1537      403      Полина   19            Сочи             ultra\n",
       "1538      908      Рустам   30          Тюмень              free\n",
       "1539       43    Стефания   22            Омск             ultra\n",
       "1540      127       Павел   25       Пятигорск             ultra\n",
       "1541      659       Злата   27  Ростов-на-Дону             ultra\n",
       "1542      204      Руслан   30       Пятигорск             ultra\n",
       "1543      153      Герман   23          Москва             ultra\n",
       "1544     1245      Регина   27       Пятигорск              free\n",
       "1545      807   Александр   28    Екатеринбург              free\n",
       "1546      924       Мария   23       Пятигорск              free\n",
       "1547      635      Герман   21          Москва             ultra\n",
       "1548      136     Марсель   25          Тюмень             ultra\n",
       "1549      108       Влада   29          Тюмень             ultra\n",
       "1550      737     Мелания   27  Ростов-на-Дону              free\n",
       "1551      666      Зарина   29          Москва             ultra\n",
       "1552      297        Егор   33       Пятигорск             ultra\n",
       "1553      121       Алина   25       Пятигорск             ultra\n",
       "1554     1198       Демид   29  Ростов-на-Дону              free\n",
       "1555       72      Никита   25          Москва             ultra\n",
       "1556      422      Кирилл   27            Сочи             ultra\n",
       "1557      611    Владимир   28            Омск             ultra\n",
       "1558     1237     Евгения   23          Тюмень              free\n",
       "1559      209      Андрей   23            Омск             ultra\n",
       "1560      829       Федор   29       Пятигорск              free\n",
       "1561      809        Юрий   26            Сочи              free\n",
       "1562      307      Ясмина   19       Краснодар             ultra\n",
       "1563       47        Юрий   28          Тюмень             ultra\n",
       "1564     1045     Артемий   28  Ростов-на-Дону              free"
      ]
     },
     "execution_count": 14,
     "metadata": {},
     "output_type": "execute_result"
    }
   ],
   "source": [
    "dubl_users = users[users.duplicated()]\n",
    "dubl_users"
   ]
  },
  {
   "cell_type": "markdown",
   "id": "3ba3db1e",
   "metadata": {},
   "source": [
    "Начиная с 1534 строки появляются уже зарегестрированные ранее пользователи. Это говорит нам о какой-то ошибке, или на стадии регистрации, или на стадии выгрузки данных.\n",
    "Дубликаты удалим, а информацию об ошибке передадим в соответсвующий отдел."
   ]
  },
  {
   "cell_type": "code",
   "execution_count": 15,
   "id": "0b8a1332",
   "metadata": {},
   "outputs": [
    {
     "name": "stdout",
     "output_type": "stream",
     "text": [
      "Количество дублей в таблице с данными о пользователях: 0\n"
     ]
    }
   ],
   "source": [
    "#Удаляю дубли и перезаписываю данные\n",
    "users = users.drop_duplicates()\n",
    "print('Количество дублей в таблице с данными о пользователях:', users.duplicated().sum())"
   ]
  },
  {
   "cell_type": "code",
   "execution_count": 16,
   "id": "1ee6f24d",
   "metadata": {},
   "outputs": [
    {
     "name": "stdout",
     "output_type": "stream",
     "text": [
      "Количество дублей в таблице с данными о поездках: 0\n"
     ]
    }
   ],
   "source": [
    "print('Количество дублей в таблице с данными о поездках:', rides_go.duplicated().sum())"
   ]
  },
  {
   "cell_type": "markdown",
   "id": "5ab4d8c1",
   "metadata": {},
   "source": [
    "________\n",
    "**Промежуточный выод:**\n",
    "\n",
    "* На данном этапе работы мы приобразовали данные в столбце с датой, в данных о поездках. \n",
    "\n",
    "\n",
    "* Округлили данные о длительности поездки до целых минут.\n",
    "\n",
    "\n",
    "* Добавили новый столбец с указанием месяца, в этот же датафрейм.\n",
    "\n",
    "\n",
    "* Проверили данные на наличие пропусков.\n",
    "\n",
    "Пропусков не выявлено.\n",
    "\n",
    "\n",
    "* Проверили данные на наличие дубликатов.\n",
    "\n",
    "***ВАЖНО:*** В таблице с данными о пользователях дублируются данные начиная с 1534 строки. Скорее всего тут произошла ошибка, или при регистрации пользователя, или при выгрузке данных.\n",
    "\n",
    "Дубликаты удалены.\n",
    "\n",
    "В таблице с информацией о поздках тдубликатов не обнаружено."
   ]
  },
  {
   "cell_type": "markdown",
   "id": "f709f42e",
   "metadata": {},
   "source": [
    "##  Исследовательский анализ данных."
   ]
  },
  {
   "cell_type": "markdown",
   "id": "9baa8810",
   "metadata": {},
   "source": [
    "### Частота встречаемости городов"
   ]
  },
  {
   "cell_type": "code",
   "execution_count": 17,
   "id": "f2579297",
   "metadata": {},
   "outputs": [
    {
     "name": "stdout",
     "output_type": "stream",
     "text": [
      "city\n",
      "Пятигорск         219\n",
      "Екатеринбург      204\n",
      "Ростов-на-Дону    198\n",
      "Краснодар         193\n",
      "Сочи              189\n",
      "Омск              183\n",
      "Тюмень            180\n",
      "Москва            168\n",
      "Name: count, dtype: int64\n"
     ]
    },
    {
     "data": {
      "image/png": "[encoded data removed]",
      "text/plain": [
       "<Figure size 640x480 with 1 Axes>"
      ]
     },
     "metadata": {},
     "output_type": "display_data"
    }
   ],
   "source": [
    "print(users['city'].value_counts())\n",
    "(\n",
    "    users.pivot_table(index = 'city',\n",
    "                     values = 'user_id',\n",
    "                     aggfunc = 'count')\n",
    "    .sort_values('user_id')\n",
    "    .plot(kind='bar',\n",
    "         title = 'Количество пользователей по городам', \n",
    "         xlabel = 'города',\n",
    "         ylabel = 'количество пользователей',\n",
    "         grid=True)\n",
    ");"
   ]
  },
  {
   "cell_type": "markdown",
   "id": "d238a51b",
   "metadata": {},
   "source": [
    "Меньше всего пользователей приложения GoFast в Москве, всего 168.\n",
    "\n",
    "Больше всего в Пятигорске - 219."
   ]
  },
  {
   "cell_type": "markdown",
   "id": "e1015199",
   "metadata": {},
   "source": [
    "### Соотношение пользователей с и без подписки."
   ]
  },
  {
   "cell_type": "code",
   "execution_count": 18,
   "id": "f6195055",
   "metadata": {},
   "outputs": [
    {
     "data": {
      "image/png": "[encoded data removed]",
      "text/plain": [
       "<Figure size 640x480 with 1 Axes>"
      ]
     },
     "metadata": {},
     "output_type": "display_data"
    }
   ],
   "source": [
    "(\n",
    "    users.groupby('subscription_type')['user_id'].count()\n",
    "    .plot(kind='pie',\n",
    "          autopct = '%1.0f%%',\n",
    "         title='Соотношение пользователей с и без подписки')\n",
    ");"
   ]
  },
  {
   "cell_type": "markdown",
   "id": "f7ac0a35",
   "metadata": {},
   "source": [
    "Среди пользователей приложение 54% без подписки, против 46% с подпиской.\n",
    "\n",
    "Пользователей без подписки больше, но всего процентов на 8, а значит у компании-прокатчика есть неплохая база постоянных клиентов.\n"
   ]
  },
  {
   "cell_type": "markdown",
   "id": "a5c87ade",
   "metadata": {},
   "source": [
    "### Возраст пользователей"
   ]
  },
  {
   "cell_type": "code",
   "execution_count": 19,
   "id": "1383a467",
   "metadata": {},
   "outputs": [
    {
     "data": {
      "image/png": "[encoded data removed]",
      "text/plain": [
       "<Figure size 1500x500 with 1 Axes>"
      ]
     },
     "metadata": {},
     "output_type": "display_data"
    }
   ],
   "source": [
    "users['age'].hist(bins=30, figsize=(15,5))\n",
    "plt.title('Возраст пользователей')\n",
    "plt.xlabel('возраст')\n",
    "plt.ylabel('количество пользователей');"
   ]
  },
  {
   "cell_type": "markdown",
   "id": "47967ba3",
   "metadata": {},
   "source": [
    "Среди пользователей чаще встречаются люди возраста от 20 до 28 лет.\n",
    "\n",
    "Чаще остальных пользуются этим приложением 25-летние."
   ]
  },
  {
   "cell_type": "markdown",
   "id": "56a0b760",
   "metadata": {},
   "source": [
    "### Расстояние которое пользователь преодолел за одну поездку."
   ]
  },
  {
   "cell_type": "code",
   "execution_count": 20,
   "id": "18b36655",
   "metadata": {},
   "outputs": [
    {
     "data": {
      "image/png": "[encoded data removed]",
      "text/plain": [
       "<Figure size 1500x500 with 1 Axes>"
      ]
     },
     "metadata": {},
     "output_type": "display_data"
    }
   ],
   "source": [
    "rides_go['distance'].hist(bins=30, figsize=(15,5))\n",
    "plt.title('Расстояние которое пользователь преодолел за 1 поездку')\n",
    "plt.xlabel('Расстояние')\n",
    "plt.ylabel('количество поездок');"
   ]
  },
  {
   "cell_type": "markdown",
   "id": "b1f3f77b",
   "metadata": {},
   "source": [
    "Основная часть поездок занимает от 2500 до 3800 метров. Медиана 3133 метра. Поездки на расстояние более 5 км редки. Однако на гистограмме видно, что некоторая часть пользователей использует самокаты для коротких поездок - до 1500 м."
   ]
  },
  {
   "cell_type": "markdown",
   "id": "95740a78",
   "metadata": {},
   "source": [
    "### Продолжительность поездок"
   ]
  },
  {
   "cell_type": "code",
   "execution_count": 21,
   "id": "af98b04b-e196-4574-81ad-614e369d8667",
   "metadata": {},
   "outputs": [
    {
     "data": {
      "image/png": "[encoded data removed]",
      "text/plain": [
       "<Figure size 640x480 with 1 Axes>"
      ]
     },
     "metadata": {},
     "output_type": "display_data"
    }
   ],
   "source": [
    "rides_go.boxplot('duration')\n",
    "plt.title('Длительность поездки');"
   ]
  },
  {
   "cell_type": "code",
   "execution_count": 22,
   "id": "b74f9c7f",
   "metadata": {},
   "outputs": [
    {
     "data": {
      "image/png": "[encoded data removed]",
      "text/plain": [
       "<Figure size 1500x500 with 1 Axes>"
      ]
     },
     "metadata": {},
     "output_type": "display_data"
    }
   ],
   "source": [
    "rides_go['duration'].hist(bins=30, figsize=(15,5));\n",
    "plt.title('Продолжительность поездок')\n",
    "plt.xlabel('Продолжительность, мин')\n",
    "plt.ylabel('количество поездок');"
   ]
  },
  {
   "cell_type": "markdown",
   "id": "d1db052b",
   "metadata": {},
   "source": [
    "Чаще всего поездки длятся от 10 до 23 минут.\n",
    "\n",
    "Пиковые значения: 12, 17 и 22 минуты."
   ]
  },
  {
   "cell_type": "markdown",
   "id": "e77f47f9",
   "metadata": {},
   "source": [
    "_______\n",
    "**Промежуточный вывод:**\n",
    "\n",
    "* Меньше всего пользователей приложения GoFast в Москве, всего 168.\n",
    "\n",
    "Больше всего в Пятигорске - 219.\n",
    "\n",
    "* Среди пользователей приложение 54% без подписки, против 46% с подпиской.\n",
    "\n",
    "Пользователей без подписки больше, но всего процентов на 8, а значит у компании-прокатчика есть неплохая база постоянных клиентов.\n",
    "\n",
    "\n",
    "* Среди пользователей чаще встречаются люди возраста от 20 до 28 лет.\n",
    "\n",
    "Чаще остальных пользуются этим приложением 25-летние.\n",
    "\n",
    "* Основная часть поездок занимает от 2500 до 3800 метров. Медиана 3133 метра. Поездки на расстояние более 5 км редки. Однако на гистограмме видно, что некоторая часть пользователей использует самокаты для коротких поездок - до 1500 м.\n",
    "\n",
    "\n",
    "* Чаще всего поездки длятся от 10 до 23 минут.\n",
    "\n",
    "Пиковые значения: 12, 17 и 22 минуты.\n"
   ]
  },
  {
   "cell_type": "markdown",
   "id": "54850cd2",
   "metadata": {},
   "source": [
    "## Объеденение данных.\n",
    "\n",
    "### Таблица пользователи-поездки.\n",
    "\n",
    "Объединим данные о пользователях, поездках и разъяснительной информацией о тарифах в 1 датафрейм и посмотрим получившуюся таблицу.\n",
    "\n",
    "Для начала оценим размеры наших таблиц."
   ]
  },
  {
   "cell_type": "code",
   "execution_count": 23,
   "id": "8178f402",
   "metadata": {},
   "outputs": [
    {
     "name": "stdout",
     "output_type": "stream",
     "text": [
      "Размер таблицы -  (1534, 5)\n",
      "Столбцы: ['user_id', 'name', 'age', 'city', 'subscription_type']\n",
      "\n",
      "Размер таблицы -  (18068, 5)\n",
      "Столбцы: ['user_id', 'distance', 'duration', 'date', 'month']\n",
      "\n",
      "Размер таблицы -  (2, 4)\n",
      "Столбцы: ['subscription_type', 'minute_price', 'start_ride_price', 'subscription_fee']\n",
      "\n"
     ]
    }
   ],
   "source": [
    "dfs = [users, rides_go, subscriptons]\n",
    "\n",
    "\n",
    "for d in dfs:\n",
    "    print('Размер таблицы - ', d.shape)\n",
    "    print('Столбцы:', d.columns.values.tolist())\n",
    "    print()"
   ]
  },
  {
   "cell_type": "markdown",
   "id": "6de2c560",
   "metadata": {},
   "source": [
    "Итак, первая таблица состоит из 1534 строк с данными о пользователях.\n",
    "Во второй данные о 18 068 поездках.\n",
    "И в третьей 2 строки и 4 столбца описывающие параметры поездки, название тарифа, стоимость минуты, стоимость старта и и стоимость тарифа.\n",
    "\n",
    "На основании этого мы можем сделать общую таблицу, в которой будут данные о 18 068 поездках дополненные информацией о пользователе и его тарифе, с рашифровкой всех цен.\n",
    "\n"
   ]
  },
  {
   "cell_type": "code",
   "execution_count": 24,
   "id": "398fd338",
   "metadata": {},
   "outputs": [
    {
     "data": {
      "text/html": [
       "<div>\n",
       "<style scoped>\n",
       "    .dataframe tbody tr th:only-of-type {\n",
       "        vertical-align: middle;\n",
       "    }\n",
       "\n",
       "    .dataframe tbody tr th {\n",
       "        vertical-align: top;\n",
       "    }\n",
       "\n",
       "    .dataframe thead th {\n",
       "        text-align: right;\n",
       "    }\n",
       "</style>\n",
       "<table border=\"1\" class=\"dataframe\">\n",
       "  <thead>\n",
       "    <tr style=\"text-align: right;\">\n",
       "      <th></th>\n",
       "      <th>user_id</th>\n",
       "      <th>name</th>\n",
       "      <th>age</th>\n",
       "      <th>city</th>\n",
       "      <th>subscription_type</th>\n",
       "      <th>distance</th>\n",
       "      <th>duration</th>\n",
       "      <th>date</th>\n",
       "      <th>month</th>\n",
       "      <th>minute_price</th>\n",
       "      <th>start_ride_price</th>\n",
       "      <th>subscription_fee</th>\n",
       "    </tr>\n",
       "  </thead>\n",
       "  <tbody>\n",
       "    <tr>\n",
       "      <th>0</th>\n",
       "      <td>1</td>\n",
       "      <td>Кира</td>\n",
       "      <td>22</td>\n",
       "      <td>Тюмень</td>\n",
       "      <td>ultra</td>\n",
       "      <td>4409.919140</td>\n",
       "      <td>26.0</td>\n",
       "      <td>2021-01-01</td>\n",
       "      <td>1</td>\n",
       "      <td>6</td>\n",
       "      <td>0</td>\n",
       "      <td>199</td>\n",
       "    </tr>\n",
       "    <tr>\n",
       "      <th>1</th>\n",
       "      <td>1</td>\n",
       "      <td>Кира</td>\n",
       "      <td>22</td>\n",
       "      <td>Тюмень</td>\n",
       "      <td>ultra</td>\n",
       "      <td>2617.592153</td>\n",
       "      <td>16.0</td>\n",
       "      <td>2021-01-18</td>\n",
       "      <td>1</td>\n",
       "      <td>6</td>\n",
       "      <td>0</td>\n",
       "      <td>199</td>\n",
       "    </tr>\n",
       "    <tr>\n",
       "      <th>2</th>\n",
       "      <td>1</td>\n",
       "      <td>Кира</td>\n",
       "      <td>22</td>\n",
       "      <td>Тюмень</td>\n",
       "      <td>ultra</td>\n",
       "      <td>754.159807</td>\n",
       "      <td>7.0</td>\n",
       "      <td>2021-04-20</td>\n",
       "      <td>4</td>\n",
       "      <td>6</td>\n",
       "      <td>0</td>\n",
       "      <td>199</td>\n",
       "    </tr>\n",
       "    <tr>\n",
       "      <th>3</th>\n",
       "      <td>1</td>\n",
       "      <td>Кира</td>\n",
       "      <td>22</td>\n",
       "      <td>Тюмень</td>\n",
       "      <td>ultra</td>\n",
       "      <td>2694.783254</td>\n",
       "      <td>19.0</td>\n",
       "      <td>2021-08-11</td>\n",
       "      <td>8</td>\n",
       "      <td>6</td>\n",
       "      <td>0</td>\n",
       "      <td>199</td>\n",
       "    </tr>\n",
       "    <tr>\n",
       "      <th>4</th>\n",
       "      <td>1</td>\n",
       "      <td>Кира</td>\n",
       "      <td>22</td>\n",
       "      <td>Тюмень</td>\n",
       "      <td>ultra</td>\n",
       "      <td>4028.687306</td>\n",
       "      <td>27.0</td>\n",
       "      <td>2021-08-28</td>\n",
       "      <td>8</td>\n",
       "      <td>6</td>\n",
       "      <td>0</td>\n",
       "      <td>199</td>\n",
       "    </tr>\n",
       "    <tr>\n",
       "      <th>5</th>\n",
       "      <td>1</td>\n",
       "      <td>Кира</td>\n",
       "      <td>22</td>\n",
       "      <td>Тюмень</td>\n",
       "      <td>ultra</td>\n",
       "      <td>2770.890808</td>\n",
       "      <td>17.0</td>\n",
       "      <td>2021-10-09</td>\n",
       "      <td>10</td>\n",
       "      <td>6</td>\n",
       "      <td>0</td>\n",
       "      <td>199</td>\n",
       "    </tr>\n",
       "    <tr>\n",
       "      <th>6</th>\n",
       "      <td>1</td>\n",
       "      <td>Кира</td>\n",
       "      <td>22</td>\n",
       "      <td>Тюмень</td>\n",
       "      <td>ultra</td>\n",
       "      <td>3039.020292</td>\n",
       "      <td>15.0</td>\n",
       "      <td>2021-10-19</td>\n",
       "      <td>10</td>\n",
       "      <td>6</td>\n",
       "      <td>0</td>\n",
       "      <td>199</td>\n",
       "    </tr>\n",
       "    <tr>\n",
       "      <th>7</th>\n",
       "      <td>1</td>\n",
       "      <td>Кира</td>\n",
       "      <td>22</td>\n",
       "      <td>Тюмень</td>\n",
       "      <td>ultra</td>\n",
       "      <td>2842.118050</td>\n",
       "      <td>24.0</td>\n",
       "      <td>2021-11-06</td>\n",
       "      <td>11</td>\n",
       "      <td>6</td>\n",
       "      <td>0</td>\n",
       "      <td>199</td>\n",
       "    </tr>\n",
       "    <tr>\n",
       "      <th>8</th>\n",
       "      <td>1</td>\n",
       "      <td>Кира</td>\n",
       "      <td>22</td>\n",
       "      <td>Тюмень</td>\n",
       "      <td>ultra</td>\n",
       "      <td>3412.690668</td>\n",
       "      <td>16.0</td>\n",
       "      <td>2021-11-14</td>\n",
       "      <td>11</td>\n",
       "      <td>6</td>\n",
       "      <td>0</td>\n",
       "      <td>199</td>\n",
       "    </tr>\n",
       "    <tr>\n",
       "      <th>9</th>\n",
       "      <td>1</td>\n",
       "      <td>Кира</td>\n",
       "      <td>22</td>\n",
       "      <td>Тюмень</td>\n",
       "      <td>ultra</td>\n",
       "      <td>748.690645</td>\n",
       "      <td>16.0</td>\n",
       "      <td>2021-11-22</td>\n",
       "      <td>11</td>\n",
       "      <td>6</td>\n",
       "      <td>0</td>\n",
       "      <td>199</td>\n",
       "    </tr>\n",
       "    <tr>\n",
       "      <th>10</th>\n",
       "      <td>1</td>\n",
       "      <td>Кира</td>\n",
       "      <td>22</td>\n",
       "      <td>Тюмень</td>\n",
       "      <td>ultra</td>\n",
       "      <td>4031.020195</td>\n",
       "      <td>18.0</td>\n",
       "      <td>2021-12-14</td>\n",
       "      <td>12</td>\n",
       "      <td>6</td>\n",
       "      <td>0</td>\n",
       "      <td>199</td>\n",
       "    </tr>\n",
       "    <tr>\n",
       "      <th>11</th>\n",
       "      <td>1</td>\n",
       "      <td>Кира</td>\n",
       "      <td>22</td>\n",
       "      <td>Тюмень</td>\n",
       "      <td>ultra</td>\n",
       "      <td>2720.609748</td>\n",
       "      <td>10.0</td>\n",
       "      <td>2021-12-22</td>\n",
       "      <td>12</td>\n",
       "      <td>6</td>\n",
       "      <td>0</td>\n",
       "      <td>199</td>\n",
       "    </tr>\n",
       "    <tr>\n",
       "      <th>12</th>\n",
       "      <td>2</td>\n",
       "      <td>Станислав</td>\n",
       "      <td>31</td>\n",
       "      <td>Омск</td>\n",
       "      <td>ultra</td>\n",
       "      <td>3105.086678</td>\n",
       "      <td>25.0</td>\n",
       "      <td>2021-03-15</td>\n",
       "      <td>3</td>\n",
       "      <td>6</td>\n",
       "      <td>0</td>\n",
       "      <td>199</td>\n",
       "    </tr>\n",
       "    <tr>\n",
       "      <th>13</th>\n",
       "      <td>2</td>\n",
       "      <td>Станислав</td>\n",
       "      <td>31</td>\n",
       "      <td>Омск</td>\n",
       "      <td>ultra</td>\n",
       "      <td>3053.519401</td>\n",
       "      <td>12.0</td>\n",
       "      <td>2021-03-18</td>\n",
       "      <td>3</td>\n",
       "      <td>6</td>\n",
       "      <td>0</td>\n",
       "      <td>199</td>\n",
       "    </tr>\n",
       "    <tr>\n",
       "      <th>14</th>\n",
       "      <td>2</td>\n",
       "      <td>Станислав</td>\n",
       "      <td>31</td>\n",
       "      <td>Омск</td>\n",
       "      <td>ultra</td>\n",
       "      <td>4029.116927</td>\n",
       "      <td>26.0</td>\n",
       "      <td>2021-03-23</td>\n",
       "      <td>3</td>\n",
       "      <td>6</td>\n",
       "      <td>0</td>\n",
       "      <td>199</td>\n",
       "    </tr>\n",
       "  </tbody>\n",
       "</table>\n",
       "</div>"
      ],
      "text/plain": [
       "    user_id       name  age    city subscription_type     distance  duration  \\\n",
       "0         1       Кира   22  Тюмень             ultra  4409.919140      26.0   \n",
       "1         1       Кира   22  Тюмень             ultra  2617.592153      16.0   \n",
       "2         1       Кира   22  Тюмень             ultra   754.159807       7.0   \n",
       "3         1       Кира   22  Тюмень             ultra  2694.783254      19.0   \n",
       "4         1       Кира   22  Тюмень             ultra  4028.687306      27.0   \n",
       "5         1       Кира   22  Тюмень             ultra  2770.890808      17.0   \n",
       "6         1       Кира   22  Тюмень             ultra  3039.020292      15.0   \n",
       "7         1       Кира   22  Тюмень             ultra  2842.118050      24.0   \n",
       "8         1       Кира   22  Тюмень             ultra  3412.690668      16.0   \n",
       "9         1       Кира   22  Тюмень             ultra   748.690645      16.0   \n",
       "10        1       Кира   22  Тюмень             ultra  4031.020195      18.0   \n",
       "11        1       Кира   22  Тюмень             ultra  2720.609748      10.0   \n",
       "12        2  Станислав   31    Омск             ultra  3105.086678      25.0   \n",
       "13        2  Станислав   31    Омск             ultra  3053.519401      12.0   \n",
       "14        2  Станислав   31    Омск             ultra  4029.116927      26.0   \n",
       "\n",
       "         date  month  minute_price  start_ride_price  subscription_fee  \n",
       "0  2021-01-01      1             6                 0               199  \n",
       "1  2021-01-18      1             6                 0               199  \n",
       "2  2021-04-20      4             6                 0               199  \n",
       "3  2021-08-11      8             6                 0               199  \n",
       "4  2021-08-28      8             6                 0               199  \n",
       "5  2021-10-09     10             6                 0               199  \n",
       "6  2021-10-19     10             6                 0               199  \n",
       "7  2021-11-06     11             6                 0               199  \n",
       "8  2021-11-14     11             6                 0               199  \n",
       "9  2021-11-22     11             6                 0               199  \n",
       "10 2021-12-14     12             6                 0               199  \n",
       "11 2021-12-22     12             6                 0               199  \n",
       "12 2021-03-15      3             6                 0               199  \n",
       "13 2021-03-18      3             6                 0               199  \n",
       "14 2021-03-23      3             6                 0               199  "
      ]
     },
     "execution_count": 24,
     "metadata": {},
     "output_type": "execute_result"
    }
   ],
   "source": [
    "# Создаю таблицу\n",
    "\n",
    "general = (\n",
    "    users.merge(rides_go,\n",
    "                     on = 'user_id',\n",
    "                     how = 'left')\n",
    "    .merge(subscriptons,\n",
    "          on = 'subscription_type',\n",
    "          how = 'left')\n",
    ")\n",
    "general.head(15)"
   ]
  },
  {
   "cell_type": "code",
   "execution_count": 25,
   "id": "5434cc37",
   "metadata": {},
   "outputs": [
    {
     "name": "stdout",
     "output_type": "stream",
     "text": [
      "Размер общей таблицы -  (18068, 12)\n",
      "\n",
      "<class 'pandas.core.frame.DataFrame'>\n",
      "RangeIndex: 18068 entries, 0 to 18067\n",
      "Data columns (total 12 columns):\n",
      " #   Column             Non-Null Count  Dtype         \n",
      "---  ------             --------------  -----         \n",
      " 0   user_id            18068 non-null  int64         \n",
      " 1   name               18068 non-null  object        \n",
      " 2   age                18068 non-null  int64         \n",
      " 3   city               18068 non-null  object        \n",
      " 4   subscription_type  18068 non-null  object        \n",
      " 5   distance           18068 non-null  float64       \n",
      " 6   duration           18068 non-null  float64       \n",
      " 7   date               18068 non-null  datetime64[ns]\n",
      " 8   month              18068 non-null  int32         \n",
      " 9   minute_price       18068 non-null  int64         \n",
      " 10  start_ride_price   18068 non-null  int64         \n",
      " 11  subscription_fee   18068 non-null  int64         \n",
      "dtypes: datetime64[ns](1), float64(2), int32(1), int64(5), object(3)\n",
      "memory usage: 1.6+ MB\n",
      "Общая информация о столбцах: None\n"
     ]
    }
   ],
   "source": [
    "print('Размер общей таблицы - ', general.shape)\n",
    "print()\n",
    "print('Общая информация о столбцах:', general.info())"
   ]
  },
  {
   "cell_type": "markdown",
   "id": "af23f7cf",
   "metadata": {},
   "source": [
    "Общая таблица содержит данные о 18 068 поездках дополненные информацией о пользователе и его тарифе, с рашифровкой всех цен.\n",
    "\n",
    "Прропусков нет."
   ]
  },
  {
   "cell_type": "markdown",
   "id": "7da93417",
   "metadata": {},
   "source": [
    "### Отдельные дата-фреймы с пользователями с подпиской и без.\n",
    "\n",
    "Создадим 2 отдельных дата-фрейма, с данными о пользователях без подписки, и пользователях с подпиской."
   ]
  },
  {
   "cell_type": "code",
   "execution_count": 26,
   "id": "6557936c",
   "metadata": {},
   "outputs": [
    {
     "name": "stdout",
     "output_type": "stream",
     "text": [
      "<class 'pandas.core.frame.DataFrame'>\n",
      "Index: 11568 entries, 6500 to 18067\n",
      "Data columns (total 12 columns):\n",
      " #   Column             Non-Null Count  Dtype         \n",
      "---  ------             --------------  -----         \n",
      " 0   user_id            11568 non-null  int64         \n",
      " 1   name               11568 non-null  object        \n",
      " 2   age                11568 non-null  int64         \n",
      " 3   city               11568 non-null  object        \n",
      " 4   subscription_type  11568 non-null  object        \n",
      " 5   distance           11568 non-null  float64       \n",
      " 6   duration           11568 non-null  float64       \n",
      " 7   date               11568 non-null  datetime64[ns]\n",
      " 8   month              11568 non-null  int32         \n",
      " 9   minute_price       11568 non-null  int64         \n",
      " 10  start_ride_price   11568 non-null  int64         \n",
      " 11  subscription_fee   11568 non-null  int64         \n",
      "dtypes: datetime64[ns](1), float64(2), int32(1), int64(5), object(3)\n",
      "memory usage: 1.1+ MB\n"
     ]
    }
   ],
   "source": [
    "#Датафрейм с информацией о пользователях без подписки\n",
    "\n",
    "free = general.query('subscription_type == \"free\"')\n",
    "free.info()"
   ]
  },
  {
   "cell_type": "markdown",
   "id": "99b99802",
   "metadata": {},
   "source": [
    "В датафрейме о пользователях без подписки информация о 11 568 поездках."
   ]
  },
  {
   "cell_type": "code",
   "execution_count": 27,
   "id": "3f864bbe",
   "metadata": {},
   "outputs": [
    {
     "name": "stdout",
     "output_type": "stream",
     "text": [
      "<class 'pandas.core.frame.DataFrame'>\n",
      "Index: 6500 entries, 0 to 6499\n",
      "Data columns (total 12 columns):\n",
      " #   Column             Non-Null Count  Dtype         \n",
      "---  ------             --------------  -----         \n",
      " 0   user_id            6500 non-null   int64         \n",
      " 1   name               6500 non-null   object        \n",
      " 2   age                6500 non-null   int64         \n",
      " 3   city               6500 non-null   object        \n",
      " 4   subscription_type  6500 non-null   object        \n",
      " 5   distance           6500 non-null   float64       \n",
      " 6   duration           6500 non-null   float64       \n",
      " 7   date               6500 non-null   datetime64[ns]\n",
      " 8   month              6500 non-null   int32         \n",
      " 9   minute_price       6500 non-null   int64         \n",
      " 10  start_ride_price   6500 non-null   int64         \n",
      " 11  subscription_fee   6500 non-null   int64         \n",
      "dtypes: datetime64[ns](1), float64(2), int32(1), int64(5), object(3)\n",
      "memory usage: 634.8+ KB\n"
     ]
    }
   ],
   "source": [
    "#Датафрейм с информацией о пользователях с подпиской\n",
    "ultra = general.query('subscription_type == \"ultra\"')\n",
    "ultra.info()"
   ]
  },
  {
   "cell_type": "markdown",
   "id": "a7fefec4",
   "metadata": {},
   "source": [
    "В датафрейме о пользователях c подпиской информация о 6 500 поездках."
   ]
  },
  {
   "cell_type": "code",
   "execution_count": 28,
   "id": "269f9615",
   "metadata": {},
   "outputs": [
    {
     "data": {
      "image/png": "[encoded data removed]",
      "text/plain": [
       "<Figure size 1500x500 with 1 Axes>"
      ]
     },
     "metadata": {},
     "output_type": "display_data"
    }
   ],
   "source": [
    "free['distance'].hist(bins=30, figsize=(15,5));\n",
    "ultra['distance'].hist(bins=30, figsize=(15,5));\n",
    "plt.legend(['с подпиской', 'без подписки'])\n",
    "plt.xlabel('длина дистанции, м')\n",
    "plt.ylabel('количество поездок');\n",
    "plt.title('Длина дистанции');"
   ]
  },
  {
   "cell_type": "markdown",
   "id": "1c087dbb",
   "metadata": {},
   "source": [
    "Судя по графику, длина дистанции поездки у пользователей сподпиской больше чем у пользователей без подписки."
   ]
  },
  {
   "cell_type": "code",
   "execution_count": 29,
   "id": "058d5623",
   "metadata": {},
   "outputs": [
    {
     "data": {
      "image/png": "[encoded data removed]",
      "text/plain": [
       "<Figure size 1500x500 with 1 Axes>"
      ]
     },
     "metadata": {},
     "output_type": "display_data"
    }
   ],
   "source": [
    "free['duration'].hist(bins=30, figsize=(15,5));\n",
    "ultra['duration'].hist(bins=30, figsize=(15,5));\n",
    "plt.legend(['с подпиской', 'без подписки'])\n",
    "plt.title('Длительность поездки')\n",
    "plt.xlabel('Продолжительность, мин')\n",
    "plt.ylabel('количество поездок');"
   ]
  },
  {
   "cell_type": "markdown",
   "id": "b77a057d",
   "metadata": {},
   "source": [
    "Судя по графику, длительность поездки у пользователей сподпиской больше чем у пользователей без подписки.\n",
    "________\n",
    "**Промежуточный вывод:**\n",
    "\n",
    "В этой части работы из трех исходных датафреймов я создала новые:\n",
    "\n",
    "- Общий, 'general'. Включает в себя информацию о пользователях, о поездках и расшифровка тарифов. \n",
    "\n",
    "- 'ultra', Только информация о поездках пользователей с подпиской.\n",
    "\n",
    "- 'free', Только информация о поездках пользователей без подписки.\n",
    "\n",
    "- Визаулизировала на графиках данные о длительности и длине поездок пользователей без/с подпиской. \n",
    "У пользователей без подписки значительно больше коротких поездок - до 1 км и в целом максимальная дальность поездки выше, чем у платных пользователей."
   ]
  },
  {
   "cell_type": "markdown",
   "id": "34e71d40",
   "metadata": {},
   "source": [
    "## Подсчет выручки\n",
    "\n",
    "### Расчет месячных показателей.\n",
    "\n",
    "Перед проведение расчетов, проверим данные на пропуски."
   ]
  },
  {
   "cell_type": "code",
   "execution_count": 30,
   "id": "4e19cdd1-0a85-40a3-944b-452517b26ab2",
   "metadata": {
    "scrolled": true
   },
   "outputs": [
    {
     "data": {
      "text/html": [
       "<style type=\"text/css\">\n",
       "#T_03764_row0_col0, #T_03764_row1_col0, #T_03764_row2_col0, #T_03764_row3_col0, #T_03764_row4_col0, #T_03764_row5_col0, #T_03764_row6_col0, #T_03764_row7_col0, #T_03764_row8_col0, #T_03764_row9_col0, #T_03764_row10_col0, #T_03764_row11_col0 {\n",
       "  background-color: #3b4cc0;\n",
       "  color: #f1f1f1;\n",
       "}\n",
       "</style>\n",
       "<table id=\"T_03764\">\n",
       "  <thead>\n",
       "    <tr>\n",
       "      <th class=\"blank level0\" >&nbsp;</th>\n",
       "      <th id=\"T_03764_level0_col0\" class=\"col_heading level0 col0\" >0</th>\n",
       "    </tr>\n",
       "  </thead>\n",
       "  <tbody>\n",
       "    <tr>\n",
       "      <th id=\"T_03764_level0_row0\" class=\"row_heading level0 row0\" >user_id</th>\n",
       "      <td id=\"T_03764_row0_col0\" class=\"data row0 col0\" >0.000000</td>\n",
       "    </tr>\n",
       "    <tr>\n",
       "      <th id=\"T_03764_level0_row1\" class=\"row_heading level0 row1\" >name</th>\n",
       "      <td id=\"T_03764_row1_col0\" class=\"data row1 col0\" >0.000000</td>\n",
       "    </tr>\n",
       "    <tr>\n",
       "      <th id=\"T_03764_level0_row2\" class=\"row_heading level0 row2\" >age</th>\n",
       "      <td id=\"T_03764_row2_col0\" class=\"data row2 col0\" >0.000000</td>\n",
       "    </tr>\n",
       "    <tr>\n",
       "      <th id=\"T_03764_level0_row3\" class=\"row_heading level0 row3\" >city</th>\n",
       "      <td id=\"T_03764_row3_col0\" class=\"data row3 col0\" >0.000000</td>\n",
       "    </tr>\n",
       "    <tr>\n",
       "      <th id=\"T_03764_level0_row4\" class=\"row_heading level0 row4\" >subscription_type</th>\n",
       "      <td id=\"T_03764_row4_col0\" class=\"data row4 col0\" >0.000000</td>\n",
       "    </tr>\n",
       "    <tr>\n",
       "      <th id=\"T_03764_level0_row5\" class=\"row_heading level0 row5\" >distance</th>\n",
       "      <td id=\"T_03764_row5_col0\" class=\"data row5 col0\" >0.000000</td>\n",
       "    </tr>\n",
       "    <tr>\n",
       "      <th id=\"T_03764_level0_row6\" class=\"row_heading level0 row6\" >duration</th>\n",
       "      <td id=\"T_03764_row6_col0\" class=\"data row6 col0\" >0.000000</td>\n",
       "    </tr>\n",
       "    <tr>\n",
       "      <th id=\"T_03764_level0_row7\" class=\"row_heading level0 row7\" >date</th>\n",
       "      <td id=\"T_03764_row7_col0\" class=\"data row7 col0\" >0.000000</td>\n",
       "    </tr>\n",
       "    <tr>\n",
       "      <th id=\"T_03764_level0_row8\" class=\"row_heading level0 row8\" >month</th>\n",
       "      <td id=\"T_03764_row8_col0\" class=\"data row8 col0\" >0.000000</td>\n",
       "    </tr>\n",
       "    <tr>\n",
       "      <th id=\"T_03764_level0_row9\" class=\"row_heading level0 row9\" >minute_price</th>\n",
       "      <td id=\"T_03764_row9_col0\" class=\"data row9 col0\" >0.000000</td>\n",
       "    </tr>\n",
       "    <tr>\n",
       "      <th id=\"T_03764_level0_row10\" class=\"row_heading level0 row10\" >start_ride_price</th>\n",
       "      <td id=\"T_03764_row10_col0\" class=\"data row10 col0\" >0.000000</td>\n",
       "    </tr>\n",
       "    <tr>\n",
       "      <th id=\"T_03764_level0_row11\" class=\"row_heading level0 row11\" >subscription_fee</th>\n",
       "      <td id=\"T_03764_row11_col0\" class=\"data row11 col0\" >0.000000</td>\n",
       "    </tr>\n",
       "  </tbody>\n",
       "</table>\n"
      ],
      "text/plain": [
       "<pandas.io.formats.style.Styler at 0x174b41a00>"
      ]
     },
     "execution_count": 30,
     "metadata": {},
     "output_type": "execute_result"
    }
   ],
   "source": [
    "pd.DataFrame(round(general.isna().mean() * 100)).style.background_gradient('coolwarm')"
   ]
  },
  {
   "cell_type": "markdown",
   "id": "51c33a5b-1d72-4cd4-a471-cf8325eccdbd",
   "metadata": {},
   "source": [
    "Данные чистые, пропусков не обнаружено."
   ]
  },
  {
   "cell_type": "code",
   "execution_count": 31,
   "id": "98f3cb4e",
   "metadata": {},
   "outputs": [
    {
     "data": {
      "text/html": [
       "<div>\n",
       "<style scoped>\n",
       "    .dataframe tbody tr th:only-of-type {\n",
       "        vertical-align: middle;\n",
       "    }\n",
       "\n",
       "    .dataframe tbody tr th {\n",
       "        vertical-align: top;\n",
       "    }\n",
       "\n",
       "    .dataframe thead th {\n",
       "        text-align: right;\n",
       "    }\n",
       "</style>\n",
       "<table border=\"1\" class=\"dataframe\">\n",
       "  <thead>\n",
       "    <tr style=\"text-align: right;\">\n",
       "      <th></th>\n",
       "      <th></th>\n",
       "      <th>total_drives</th>\n",
       "      <th>total_distance</th>\n",
       "      <th>total_duration</th>\n",
       "      <th>minute_price</th>\n",
       "      <th>start_ride_price</th>\n",
       "      <th>subscription_fee</th>\n",
       "      <th>subscription_type</th>\n",
       "    </tr>\n",
       "    <tr>\n",
       "      <th>month</th>\n",
       "      <th>user_id</th>\n",
       "      <th></th>\n",
       "      <th></th>\n",
       "      <th></th>\n",
       "      <th></th>\n",
       "      <th></th>\n",
       "      <th></th>\n",
       "      <th></th>\n",
       "    </tr>\n",
       "  </thead>\n",
       "  <tbody>\n",
       "    <tr>\n",
       "      <th rowspan=\"5\" valign=\"top\">1</th>\n",
       "      <th>1</th>\n",
       "      <td>2</td>\n",
       "      <td>7027.511294</td>\n",
       "      <td>42.0</td>\n",
       "      <td>6</td>\n",
       "      <td>0</td>\n",
       "      <td>199</td>\n",
       "      <td>ultra</td>\n",
       "    </tr>\n",
       "    <tr>\n",
       "      <th>3</th>\n",
       "      <td>1</td>\n",
       "      <td>3061.777147</td>\n",
       "      <td>13.0</td>\n",
       "      <td>6</td>\n",
       "      <td>0</td>\n",
       "      <td>199</td>\n",
       "      <td>ultra</td>\n",
       "    </tr>\n",
       "    <tr>\n",
       "      <th>5</th>\n",
       "      <td>1</td>\n",
       "      <td>3914.646990</td>\n",
       "      <td>13.0</td>\n",
       "      <td>6</td>\n",
       "      <td>0</td>\n",
       "      <td>199</td>\n",
       "      <td>ultra</td>\n",
       "    </tr>\n",
       "    <tr>\n",
       "      <th>7</th>\n",
       "      <td>2</td>\n",
       "      <td>6478.080979</td>\n",
       "      <td>28.0</td>\n",
       "      <td>6</td>\n",
       "      <td>0</td>\n",
       "      <td>199</td>\n",
       "      <td>ultra</td>\n",
       "    </tr>\n",
       "    <tr>\n",
       "      <th>12</th>\n",
       "      <td>1</td>\n",
       "      <td>3577.151148</td>\n",
       "      <td>33.0</td>\n",
       "      <td>6</td>\n",
       "      <td>0</td>\n",
       "      <td>199</td>\n",
       "      <td>ultra</td>\n",
       "    </tr>\n",
       "    <tr>\n",
       "      <th>...</th>\n",
       "      <th>...</th>\n",
       "      <td>...</td>\n",
       "      <td>...</td>\n",
       "      <td>...</td>\n",
       "      <td>...</td>\n",
       "      <td>...</td>\n",
       "      <td>...</td>\n",
       "      <td>...</td>\n",
       "    </tr>\n",
       "    <tr>\n",
       "      <th rowspan=\"5\" valign=\"top\">12</th>\n",
       "      <th>1525</th>\n",
       "      <td>1</td>\n",
       "      <td>4597.854350</td>\n",
       "      <td>34.0</td>\n",
       "      <td>8</td>\n",
       "      <td>50</td>\n",
       "      <td>0</td>\n",
       "      <td>free</td>\n",
       "    </tr>\n",
       "    <tr>\n",
       "      <th>1526</th>\n",
       "      <td>1</td>\n",
       "      <td>3644.121544</td>\n",
       "      <td>23.0</td>\n",
       "      <td>8</td>\n",
       "      <td>50</td>\n",
       "      <td>0</td>\n",
       "      <td>free</td>\n",
       "    </tr>\n",
       "    <tr>\n",
       "      <th>1528</th>\n",
       "      <td>1</td>\n",
       "      <td>3998.569324</td>\n",
       "      <td>11.0</td>\n",
       "      <td>8</td>\n",
       "      <td>50</td>\n",
       "      <td>0</td>\n",
       "      <td>free</td>\n",
       "    </tr>\n",
       "    <tr>\n",
       "      <th>1532</th>\n",
       "      <td>2</td>\n",
       "      <td>6111.889853</td>\n",
       "      <td>42.0</td>\n",
       "      <td>8</td>\n",
       "      <td>50</td>\n",
       "      <td>0</td>\n",
       "      <td>free</td>\n",
       "    </tr>\n",
       "    <tr>\n",
       "      <th>1534</th>\n",
       "      <td>1</td>\n",
       "      <td>2371.711192</td>\n",
       "      <td>16.0</td>\n",
       "      <td>8</td>\n",
       "      <td>50</td>\n",
       "      <td>0</td>\n",
       "      <td>free</td>\n",
       "    </tr>\n",
       "  </tbody>\n",
       "</table>\n",
       "<p>11331 rows × 7 columns</p>\n",
       "</div>"
      ],
      "text/plain": [
       "               total_drives  total_distance  total_duration  minute_price  \\\n",
       "month user_id                                                               \n",
       "1     1                   2     7027.511294            42.0             6   \n",
       "      3                   1     3061.777147            13.0             6   \n",
       "      5                   1     3914.646990            13.0             6   \n",
       "      7                   2     6478.080979            28.0             6   \n",
       "      12                  1     3577.151148            33.0             6   \n",
       "...                     ...             ...             ...           ...   \n",
       "12    1525                1     4597.854350            34.0             8   \n",
       "      1526                1     3644.121544            23.0             8   \n",
       "      1528                1     3998.569324            11.0             8   \n",
       "      1532                2     6111.889853            42.0             8   \n",
       "      1534                1     2371.711192            16.0             8   \n",
       "\n",
       "               start_ride_price  subscription_fee subscription_type  \n",
       "month user_id                                                        \n",
       "1     1                       0               199             ultra  \n",
       "      3                       0               199             ultra  \n",
       "      5                       0               199             ultra  \n",
       "      7                       0               199             ultra  \n",
       "      12                      0               199             ultra  \n",
       "...                         ...               ...               ...  \n",
       "12    1525                   50                 0              free  \n",
       "      1526                   50                 0              free  \n",
       "      1528                   50                 0              free  \n",
       "      1532                   50                 0              free  \n",
       "      1534                   50                 0              free  \n",
       "\n",
       "[11331 rows x 7 columns]"
      ]
     },
     "execution_count": 31,
     "metadata": {},
     "output_type": "execute_result"
    }
   ],
   "source": [
    "#Агрегируем таблицу, чтобы увидеть необходимые данные о поездках\n",
    "profit = general.pivot_table(index = ['month','user_id'],\n",
    "                            values = ['distance', 'duration', 'subscription_type', 'minute_price', \n",
    "                                      'start_ride_price', 'subscription_fee'],\n",
    "                            aggfunc = {'distance' : ['count', 'sum'],\n",
    "                                       'duration' : 'sum',\n",
    "                                       'subscription_type':'first',\n",
    "                                       'minute_price':'first',\n",
    "                                       'start_ride_price':'first',\n",
    "                                       'subscription_fee':'first'}\n",
    "                                       )\n",
    "#Уберем мультииндексы \n",
    "profit.columns = ['total_drives', 'total_distance', 'total_duration', 'minute_price', \n",
    "                  'start_ride_price', 'subscription_fee','subscription_type']\n",
    "\n",
    "profit\n"
   ]
  },
  {
   "cell_type": "code",
   "execution_count": 32,
   "id": "03134424",
   "metadata": {},
   "outputs": [
    {
     "data": {
      "text/html": [
       "<div>\n",
       "<style scoped>\n",
       "    .dataframe tbody tr th:only-of-type {\n",
       "        vertical-align: middle;\n",
       "    }\n",
       "\n",
       "    .dataframe tbody tr th {\n",
       "        vertical-align: top;\n",
       "    }\n",
       "\n",
       "    .dataframe thead th {\n",
       "        text-align: right;\n",
       "    }\n",
       "</style>\n",
       "<table border=\"1\" class=\"dataframe\">\n",
       "  <thead>\n",
       "    <tr style=\"text-align: right;\">\n",
       "      <th></th>\n",
       "      <th></th>\n",
       "      <th>total_drives</th>\n",
       "      <th>total_distance</th>\n",
       "      <th>total_duration</th>\n",
       "      <th>minute_price</th>\n",
       "      <th>start_ride_price</th>\n",
       "      <th>subscription_fee</th>\n",
       "      <th>subscription_type</th>\n",
       "      <th>total_profit</th>\n",
       "    </tr>\n",
       "    <tr>\n",
       "      <th>month</th>\n",
       "      <th>user_id</th>\n",
       "      <th></th>\n",
       "      <th></th>\n",
       "      <th></th>\n",
       "      <th></th>\n",
       "      <th></th>\n",
       "      <th></th>\n",
       "      <th></th>\n",
       "      <th></th>\n",
       "    </tr>\n",
       "  </thead>\n",
       "  <tbody>\n",
       "    <tr>\n",
       "      <th rowspan=\"5\" valign=\"top\">1</th>\n",
       "      <th>1</th>\n",
       "      <td>2</td>\n",
       "      <td>7027.511294</td>\n",
       "      <td>42.0</td>\n",
       "      <td>6</td>\n",
       "      <td>0</td>\n",
       "      <td>199</td>\n",
       "      <td>ultra</td>\n",
       "      <td>451.0</td>\n",
       "    </tr>\n",
       "    <tr>\n",
       "      <th>3</th>\n",
       "      <td>1</td>\n",
       "      <td>3061.777147</td>\n",
       "      <td>13.0</td>\n",
       "      <td>6</td>\n",
       "      <td>0</td>\n",
       "      <td>199</td>\n",
       "      <td>ultra</td>\n",
       "      <td>277.0</td>\n",
       "    </tr>\n",
       "    <tr>\n",
       "      <th>5</th>\n",
       "      <td>1</td>\n",
       "      <td>3914.646990</td>\n",
       "      <td>13.0</td>\n",
       "      <td>6</td>\n",
       "      <td>0</td>\n",
       "      <td>199</td>\n",
       "      <td>ultra</td>\n",
       "      <td>277.0</td>\n",
       "    </tr>\n",
       "    <tr>\n",
       "      <th>7</th>\n",
       "      <td>2</td>\n",
       "      <td>6478.080979</td>\n",
       "      <td>28.0</td>\n",
       "      <td>6</td>\n",
       "      <td>0</td>\n",
       "      <td>199</td>\n",
       "      <td>ultra</td>\n",
       "      <td>367.0</td>\n",
       "    </tr>\n",
       "    <tr>\n",
       "      <th>12</th>\n",
       "      <td>1</td>\n",
       "      <td>3577.151148</td>\n",
       "      <td>33.0</td>\n",
       "      <td>6</td>\n",
       "      <td>0</td>\n",
       "      <td>199</td>\n",
       "      <td>ultra</td>\n",
       "      <td>397.0</td>\n",
       "    </tr>\n",
       "    <tr>\n",
       "      <th>...</th>\n",
       "      <th>...</th>\n",
       "      <td>...</td>\n",
       "      <td>...</td>\n",
       "      <td>...</td>\n",
       "      <td>...</td>\n",
       "      <td>...</td>\n",
       "      <td>...</td>\n",
       "      <td>...</td>\n",
       "      <td>...</td>\n",
       "    </tr>\n",
       "    <tr>\n",
       "      <th rowspan=\"5\" valign=\"top\">12</th>\n",
       "      <th>1525</th>\n",
       "      <td>1</td>\n",
       "      <td>4597.854350</td>\n",
       "      <td>34.0</td>\n",
       "      <td>8</td>\n",
       "      <td>50</td>\n",
       "      <td>0</td>\n",
       "      <td>free</td>\n",
       "      <td>322.0</td>\n",
       "    </tr>\n",
       "    <tr>\n",
       "      <th>1526</th>\n",
       "      <td>1</td>\n",
       "      <td>3644.121544</td>\n",
       "      <td>23.0</td>\n",
       "      <td>8</td>\n",
       "      <td>50</td>\n",
       "      <td>0</td>\n",
       "      <td>free</td>\n",
       "      <td>234.0</td>\n",
       "    </tr>\n",
       "    <tr>\n",
       "      <th>1528</th>\n",
       "      <td>1</td>\n",
       "      <td>3998.569324</td>\n",
       "      <td>11.0</td>\n",
       "      <td>8</td>\n",
       "      <td>50</td>\n",
       "      <td>0</td>\n",
       "      <td>free</td>\n",
       "      <td>138.0</td>\n",
       "    </tr>\n",
       "    <tr>\n",
       "      <th>1532</th>\n",
       "      <td>2</td>\n",
       "      <td>6111.889853</td>\n",
       "      <td>42.0</td>\n",
       "      <td>8</td>\n",
       "      <td>50</td>\n",
       "      <td>0</td>\n",
       "      <td>free</td>\n",
       "      <td>436.0</td>\n",
       "    </tr>\n",
       "    <tr>\n",
       "      <th>1534</th>\n",
       "      <td>1</td>\n",
       "      <td>2371.711192</td>\n",
       "      <td>16.0</td>\n",
       "      <td>8</td>\n",
       "      <td>50</td>\n",
       "      <td>0</td>\n",
       "      <td>free</td>\n",
       "      <td>178.0</td>\n",
       "    </tr>\n",
       "  </tbody>\n",
       "</table>\n",
       "<p>11331 rows × 8 columns</p>\n",
       "</div>"
      ],
      "text/plain": [
       "               total_drives  total_distance  total_duration  minute_price  \\\n",
       "month user_id                                                               \n",
       "1     1                   2     7027.511294            42.0             6   \n",
       "      3                   1     3061.777147            13.0             6   \n",
       "      5                   1     3914.646990            13.0             6   \n",
       "      7                   2     6478.080979            28.0             6   \n",
       "      12                  1     3577.151148            33.0             6   \n",
       "...                     ...             ...             ...           ...   \n",
       "12    1525                1     4597.854350            34.0             8   \n",
       "      1526                1     3644.121544            23.0             8   \n",
       "      1528                1     3998.569324            11.0             8   \n",
       "      1532                2     6111.889853            42.0             8   \n",
       "      1534                1     2371.711192            16.0             8   \n",
       "\n",
       "               start_ride_price  subscription_fee subscription_type  \\\n",
       "month user_id                                                         \n",
       "1     1                       0               199             ultra   \n",
       "      3                       0               199             ultra   \n",
       "      5                       0               199             ultra   \n",
       "      7                       0               199             ultra   \n",
       "      12                      0               199             ultra   \n",
       "...                         ...               ...               ...   \n",
       "12    1525                   50                 0              free   \n",
       "      1526                   50                 0              free   \n",
       "      1528                   50                 0              free   \n",
       "      1532                   50                 0              free   \n",
       "      1534                   50                 0              free   \n",
       "\n",
       "               total_profit  \n",
       "month user_id                \n",
       "1     1               451.0  \n",
       "      3               277.0  \n",
       "      5               277.0  \n",
       "      7               367.0  \n",
       "      12              397.0  \n",
       "...                     ...  \n",
       "12    1525            322.0  \n",
       "      1526            234.0  \n",
       "      1528            138.0  \n",
       "      1532            436.0  \n",
       "      1534            178.0  \n",
       "\n",
       "[11331 rows x 8 columns]"
      ]
     },
     "execution_count": 32,
     "metadata": {},
     "output_type": "execute_result"
    }
   ],
   "source": [
    "#Расчитаем прибыль которую принес каждый пользователь\n",
    "\n",
    "profit['total_profit'] = profit['start_ride_price'] * profit['total_drives'] + \\\n",
    "profit['minute_price'] * profit['total_duration']  + profit['subscription_fee']\n",
    "\n",
    "profit"
   ]
  },
  {
   "cell_type": "markdown",
   "id": "57a69f44",
   "metadata": {},
   "source": [
    "## Проверка гипотез.\n",
    "\n",
    "### Гипотеза Пользователи с подпиской тратят больше времени на поездки."
   ]
  },
  {
   "cell_type": "code",
   "execution_count": 33,
   "id": "a573442a",
   "metadata": {},
   "outputs": [
    {
     "name": "stdout",
     "output_type": "stream",
     "text": [
      "p-значение: 2.4959453720736625e-34\n",
      "Отвергаем нулевую гипотезу\n"
     ]
    }
   ],
   "source": [
    "#Нулевая гипотеза - длительность поездки пользователей с подпиской равна длительности пользователя без подкписки\n",
    "#Альтернативная, длительность пользователей с подпиской больше\n",
    "alpha = 0.05 # уровень статистической значимости\n",
    "\n",
    "results = st.ttest_ind(\n",
    "    ultra['duration'], \n",
    "    free['duration'],\n",
    "    alternative = 'greater')\n",
    "\n",
    "print('p-значение:', results.pvalue)\n",
    "\n",
    "if results.pvalue < alpha:\n",
    "    print('Отвергаем нулевую гипотезу')\n",
    "else:\n",
    "    print('Не получилось отвергнуть нулевую гипотезу')\n",
    "    \n",
    "    "
   ]
  },
  {
   "cell_type": "markdown",
   "id": "a4d7bb34",
   "metadata": {},
   "source": [
    "Есть все основания предполагать, что длительность поездки пользователей с подпиской больше пользователей без подписки."
   ]
  },
  {
   "cell_type": "markdown",
   "id": "7fd4daf5",
   "metadata": {},
   "source": [
    "### Расстояние одной поездки в 3130 метров — оптимальное с точки зрения износа самоката.\n",
    "\n",
    "Можно ли сказать, что расстояние, которое проезжают пользователи с подпиской за одну поездку, не превышает 3130 метров? \n"
   ]
  },
  {
   "cell_type": "code",
   "execution_count": 34,
   "id": "76ca08df",
   "metadata": {},
   "outputs": [
    {
     "name": "stdout",
     "output_type": "stream",
     "text": [
      "p-значение: 0.9195368847849785\n",
      "Не отвергаем нулевую гипотезу\n"
     ]
    }
   ],
   "source": [
    "#Нулевая гипотеза: Расстояние которое проезжают пользователи за одну поездку равно 3130 м.\n",
    "#Альтернативная: Расстояние которое проезжают пользователи за одну поездку больше 3130 м\n",
    "\n",
    "wear = 3130\n",
    "alphа = .05 #уровень статистической значимости\n",
    "\n",
    "results = st.ttest_1samp(\n",
    "    ultra['distance'],\n",
    "    wear,\n",
    "    alternative = 'greater'\n",
    ")\n",
    "\n",
    "print('p-значение:', results.pvalue)\n",
    "\n",
    "if (results.pvalue < alpha):\n",
    "    print('Отвергаем нулевую гипотезу')\n",
    "else:\n",
    "    print('Не отвергаем нулевую гипотезу') "
   ]
  },
  {
   "cell_type": "markdown",
   "id": "ed9a285d",
   "metadata": {},
   "source": [
    "На основании полученных данных можно предположить, что длина поездок менее 3130 м."
   ]
  },
  {
   "cell_type": "markdown",
   "id": "bdbc4ad5",
   "metadata": {},
   "source": [
    "### Будет ли помесячная выручка от пользователей с подпиской по месяцам выше, чем выручка от пользователей без подписки. "
   ]
  },
  {
   "cell_type": "code",
   "execution_count": 35,
   "id": "6478f1b8",
   "metadata": {},
   "outputs": [
    {
     "name": "stdout",
     "output_type": "stream",
     "text": [
      "p-значение: 1.8850394384715216e-31\n",
      "Отвергаем нулевую гипотезу\n"
     ]
    }
   ],
   "source": [
    "# Нулевая гипотеза - помесячная выручка от пользователей с подпиской по месяцам ==, чем выручка от \n",
    "#пользователей без подписки\n",
    "# Альтернативная - помесячная выручка от пользователей с подпиской по месяцам выше, чем выручка от \n",
    "#пользователей без подписки\n",
    "\n",
    "alphа = .05 #уровень статистической значимости\n",
    "\n",
    "results = st.ttest_ind(\n",
    "    profit.query('subscription_type == \"ultra\"')['total_profit'],\n",
    "    profit.query('subscription_type == \"free\"')['total_profit'],\n",
    "    alternative = 'greater')\n",
    "\n",
    "print('p-значение:', results.pvalue)\n",
    "\n",
    "if (results.pvalue < alpha):\n",
    "    print('Отвергаем нулевую гипотезу')\n",
    "else:\n",
    "    print('Не отвергаем нулевую гипотезу') \n"
   ]
  },
  {
   "cell_type": "markdown",
   "id": "a4c2736a",
   "metadata": {},
   "source": [
    "Да, есть все основания полагать что выручка по месяцам пользователей с подпиской, больше чем выручка пользователей без подписки."
   ]
  },
  {
   "cell_type": "markdown",
   "id": "6ec519c8",
   "metadata": {},
   "source": [
    "### Распределения\n",
    "\n",
    "#### Задача 1.\n",
    "\n",
    "Отделу маркетинга GoFast поставили задачу: нужно провести акцию с раздачей промокодов на один бесплатный месяц подписки, в рамках которой как минимум 100 существующих клиентов должны продлить эту подписку. То есть по завершении периода действия подписки пользователь может либо отказаться от неё, либо продлить, совершив соответствующий платёж.\n",
    "\n",
    "Эта акция уже проводилась ранее и по итогу выяснилось, что после бесплатного пробного периода подписку продлевают \n",
    "10 % пользователей. Выясним, какое минимальное количество промокодов нужно разослать, чтобы вероятность не выполнить план была примерно  5%. Подберем параметры распределения, описывающего эту ситуацию, построим график распределения и сформулируем ответ на вопрос о количестве промокодов."
   ]
  },
  {
   "cell_type": "code",
   "execution_count": 36,
   "id": "62771369",
   "metadata": {},
   "outputs": [
    {
     "data": {
      "image/png": "[encoded data removed]",
      "text/plain": [
       "<Figure size 640x480 with 1 Axes>"
      ]
     },
     "metadata": {},
     "output_type": "display_data"
    }
   ],
   "source": [
    "#Построим график распределения продления подписки при  рассылке 1000 промокодов\n",
    "\n",
    "n = 1000 #количество промокодов\n",
    "p = 0.1 #вероятноть успеха(того, что подписку продлят)\n",
    "\n",
    "distr = [] #пустой список для построения бинминального распределения\n",
    "\n",
    "for k in range(0, n + 1):\n",
    "    current_value = binom.pmf(k, n, p)\n",
    "    distr.append(current_value)\n",
    "    \n",
    "plt.bar(range(0, n + 1), distr);\n",
    "\n",
    "\n",
    "plt.xlim(0, 200)\n",
    "plt.title('график распределения продления подписки при  рассылке 1000 промокодов')\n",
    "plt.xlabel('количество человек продливших подписку')\n",
    "plt.ylabel('вероятность');\n"
   ]
  },
  {
   "cell_type": "markdown",
   "id": "0d8ef247",
   "metadata": {},
   "source": [
    "Вероятность того, что 100 человек продлит подлписку высока. Но так же досточна велика вероятность и меньшего количества продлений.\n",
    "\n",
    "Увеличим количество промокодов до 1100."
   ]
  },
  {
   "cell_type": "code",
   "execution_count": 37,
   "id": "18c20737",
   "metadata": {},
   "outputs": [
    {
     "data": {
      "image/png": "[encoded data removed]",
      "text/plain": [
       "<Figure size 640x480 with 1 Axes>"
      ]
     },
     "metadata": {},
     "output_type": "display_data"
    }
   ],
   "source": [
    "n = 1100 #количество промокодов\n",
    "p = 0.1 #вероятноть успеха(того, что подписку продлят)\n",
    "\n",
    "distr = [] #пустой список для построения бинминального распределения\n",
    "\n",
    "for k in range(0, n + 1):\n",
    "    current_value = binom.pmf(k, n, p)\n",
    "    distr.append(current_value)\n",
    "    \n",
    "plt.bar(range(0, n + 1), distr);\n",
    "plt.xlim(0, 200)\n",
    "plt.title('график распределения продления подписки при  рассылке 1000 промокодов')\n",
    "plt.xlabel('количество человек продливших подписку')\n",
    "plt.ylabel('вероятность');"
   ]
  },
  {
   "cell_type": "markdown",
   "id": "960f5d21",
   "metadata": {},
   "source": [
    "Уже лучше.\n",
    "Нам нужно провести расчеты, сколько промокодов нужно разослать, чтобы вероятность не выполнения плана была ~5%."
   ]
  },
  {
   "cell_type": "code",
   "execution_count": 38,
   "id": "56718546",
   "metadata": {},
   "outputs": [
    {
     "data": {
      "text/plain": [
       "0.05160145525838272"
      ]
     },
     "execution_count": 38,
     "metadata": {},
     "output_type": "execute_result"
    }
   ],
   "source": [
    "\n",
    "N = 1167 #количество промокодов\n",
    "p = 0.1 #вероятноть успеха(того, что подписку продлят)\n",
    "\n",
    "mu = N * p\n",
    "sigma = (N * p * (1 - p)) ** 0.5\n",
    "\n",
    "gr = st.norm(mu, sigma) \n",
    "x = 100\n",
    "\n",
    "min_promo = gr.cdf(100)\n",
    "\n",
    "min_promo"
   ]
  },
  {
   "cell_type": "markdown",
   "id": "39a6b6dc",
   "metadata": {},
   "source": [
    "#### Задача 2.\n",
    "\n",
    "Отдел маркетинга рассылает клиентам push-уведомления в мобильном приложении. Клиенты могут открыть его или не открывать. Известно, что уведомления открывают около 40 % получивших клиентов. Отдел планирует разослать 1 млн уведомлений. С помощью аппроксимации постройте примерный график распределения и оцените вероятность того, что уведомление откроют не более  399,5 тыс. пользователей"
   ]
  },
  {
   "cell_type": "code",
   "execution_count": 39,
   "id": "440d655c",
   "metadata": {},
   "outputs": [
    {
     "name": "stdout",
     "output_type": "stream",
     "text": [
      "0.8462829170363023\n"
     ]
    }
   ],
   "source": [
    "\n",
    "from math import sqrt\n",
    "\n",
    "n = 1000000 # параметры \n",
    "p = 0.4 # биномиального распределения\n",
    "\n",
    "mu = n * p # рассчитайте параметры \n",
    "sigma = sqrt(n * p * (1 - p)) # нормального распределения\n",
    "\n",
    "distr = st.norm(mu, sigma)# задайте нормальное распределение\n",
    "\n",
    "result = 1 - distr.cdf(399500)# найдите вероятность\n",
    "print(result)"
   ]
  },
  {
   "cell_type": "markdown",
   "id": "cdd95e61",
   "metadata": {},
   "source": [
    "84% вероятность, что уведомлнние откроют не более 399.5 пользователей"
   ]
  },
  {
   "cell_type": "markdown",
   "id": "99f2de5c",
   "metadata": {},
   "source": [
    "## ОБЩИЙ ВЫВОД:\n",
    "\n",
    "    Для данной работы мы получили данные пользователей приложения GoFast. \n",
    "\n",
    "3 дата фрейма:\n",
    "\n",
    "- данные о пользователях приложения;\n",
    "- данные о поездках;\n",
    "- данные о подписках.\n",
    "\n",
    "        Полученные данные были проверены на наличие дубликатов и пропусков. \n",
    "\n",
    "В таблице о пользователях начиная с 1534 строки содержаться полные дубликаты предыдущих.\n",
    "\n",
    "Скорее всего это связано с технической ошибкой. Данную информацию необходимо передать в соотвествующий отдел.\n",
    "\n",
    "Дубликаты удалены.\n",
    "\n",
    "        Проведен исследовательский анализ данных. В результате которого установлено:\n",
    "\n",
    "* Меньше всего пользователей приложения GoFast в Москве, всего 168.\n",
    "\n",
    "Больше всего в Пятигорске - 219.\n",
    "\n",
    "* Среди пользователей приложение 54% без подписки, против 46% с подпиской.\n",
    "\n",
    "Пользователей без подписки больше, но всего процентов на 8, а значит у компании-прокатчика есть неплохая база постоянных клиентов.\n",
    "\n",
    "\n",
    "* Среди пользователей чаще встречаются люди возраста от 20 до 28 лет.\n",
    "\n",
    "Чаще остальных пользуются этим приложением 25-летние.\n",
    "\n",
    "* Основная часть поездок занимает от 2500 до 3800 метров. Медиана 3133 метра. Поездки на расстояние более 5 км редки. Однако на гистограмме видно, что некоторая часть пользователей использует самокаты для коротких поездок - до 1500 м.\n",
    "\n",
    "\n",
    "* Чаще всего поездки длятся от 10 до 23 минут.\n",
    "\n",
    "Пиковые значения: 12, 17 и 22 минуты.\n",
    "\n",
    "Данные визуализированны графиками.\n",
    "\n",
    "\n",
    "        На основании полученных данных созданы новые:\n",
    "\n",
    "- Общий, 'general'. Включает в себя информацию о пользователях, о поездках и расшифровка тарифов. \n",
    "\n",
    "- 'ultra', Только информация о поездках пользователей с подпиской.\n",
    "\n",
    "- 'free', Только информация о поездках пользователей без подписки.\n",
    "\n",
    "- Визаулизировала на графиках данные о длительности и длине поездок пользователей без/с подпиской. По ним можно предположить, что у пользователей с подпиской эти показатели больше.\n",
    "\n",
    "\n",
    "        Далее с помощью расчетов мы поработали с рядом гипотез:\n",
    "        \n",
    "* Подтвердили что длительность поездки пользователей с подпиской больше пользователей без подписки.\n",
    "\n",
    "* Подтвердили, что длина поездок менее 3130 м.\n",
    "\n",
    "* Подтвердили гипотезу о том, что выручка по месяцам пользователей с подпиской, больше чем выручка пользователей без подписки."
   ]
  },
  {
   "cell_type": "markdown",
   "id": "1e9e285e",
   "metadata": {},
   "source": [
    "***Рекомендации:***\n",
    "\n",
    "- В данных о поездках представлены всего 8 городов. Из них 4 миллионника. Стоит расширить географию использования приложения. Запустить пректы в прочих крупных городах (СПб, Новосибирск, Казань, Нижний Новогород, Уф, Воронеж, Пермь, ВОлгоград и пр). \n",
    "\n",
    "- Так же увеличивать число пользователей в уже имеющихся. Пользователей в Москве меньше чем пользователей в Пятигорске. Возможно стоит увеличить количество самокатов, или запустить дополнительную рекламу.\n",
    "\n",
    "- Часть самокатов используется для коротких поездок. То есть это не прогулка, а целенапрвленная поездка добраться до какого-то место. Стоит проработать возможность запуска какой-то акции для коротких маршрутов. Возможно это будет абонемент на какое-то количество поедок до 1500 м, или же спец цены на поездки до конкретной точки. \n",
    "\n",
    "Пользователи которые используют самокаты для таких целей, озможно чаще станут приобретать абонементы и как следствие становится постоянными клиентами и сильнее интегрировать такое средство передвижения в свою жизнь.\n",
    "\n",
    "\n",
    "- Есть пиковые значения по длительности поездки. Так же стоит отработать варианты фиксированных поездок 15, 20 и 25 минут.\n",
    "\n",
    "- Поездки пользователей и длительность пользователей без подписки меньше. Можно повлиять на этот фактор. Длительные и длинные поездки, чаще используются для прогулочных вариантов. Можно начиная с определенного времени делать стоимость минуты дешевле. \n",
    "\n",
    "\n"
   ]
  }
 ],
 "metadata": {
  "ExecuteTimeLog": [
   {
    "duration": 1088,
    "start_time": "2023-07-13T17:39:53.279Z"
   },
   {
    "duration": 173,
    "start_time": "2023-07-13T17:39:54.369Z"
   },
   {
    "duration": 0,
    "start_time": "2023-07-13T17:39:54.544Z"
   },
   {
    "duration": 0,
    "start_time": "2023-07-13T17:39:54.545Z"
   },
   {
    "duration": 0,
    "start_time": "2023-07-13T17:39:54.546Z"
   },
   {
    "duration": 0,
    "start_time": "2023-07-13T17:39:54.547Z"
   },
   {
    "duration": 0,
    "start_time": "2023-07-13T17:39:54.548Z"
   },
   {
    "duration": 0,
    "start_time": "2023-07-13T17:39:54.556Z"
   },
   {
    "duration": 0,
    "start_time": "2023-07-13T17:39:54.556Z"
   },
   {
    "duration": 0,
    "start_time": "2023-07-13T17:39:54.557Z"
   },
   {
    "duration": 0,
    "start_time": "2023-07-13T17:39:54.558Z"
   },
   {
    "duration": 0,
    "start_time": "2023-07-13T17:39:54.558Z"
   },
   {
    "duration": 0,
    "start_time": "2023-07-13T17:39:54.559Z"
   },
   {
    "duration": 0,
    "start_time": "2023-07-13T17:39:54.573Z"
   },
   {
    "duration": 0,
    "start_time": "2023-07-13T17:39:54.573Z"
   },
   {
    "duration": 0,
    "start_time": "2023-07-13T17:39:54.574Z"
   },
   {
    "duration": 0,
    "start_time": "2023-07-13T17:39:54.575Z"
   },
   {
    "duration": 0,
    "start_time": "2023-07-13T17:39:54.576Z"
   },
   {
    "duration": 0,
    "start_time": "2023-07-13T17:39:54.578Z"
   },
   {
    "duration": 0,
    "start_time": "2023-07-13T17:39:54.579Z"
   },
   {
    "duration": 0,
    "start_time": "2023-07-13T17:39:54.580Z"
   },
   {
    "duration": 0,
    "start_time": "2023-07-13T17:39:54.581Z"
   },
   {
    "duration": 0,
    "start_time": "2023-07-13T17:39:54.583Z"
   },
   {
    "duration": 0,
    "start_time": "2023-07-13T17:39:54.584Z"
   },
   {
    "duration": 0,
    "start_time": "2023-07-13T17:39:54.585Z"
   },
   {
    "duration": 0,
    "start_time": "2023-07-13T17:39:54.586Z"
   },
   {
    "duration": 0,
    "start_time": "2023-07-13T17:39:54.587Z"
   },
   {
    "duration": 0,
    "start_time": "2023-07-13T17:39:54.589Z"
   },
   {
    "duration": 0,
    "start_time": "2023-07-13T17:39:54.590Z"
   },
   {
    "duration": 0,
    "start_time": "2023-07-13T17:39:54.591Z"
   },
   {
    "duration": 0,
    "start_time": "2023-07-13T17:39:54.592Z"
   },
   {
    "duration": 0,
    "start_time": "2023-07-13T17:39:54.593Z"
   },
   {
    "duration": 0,
    "start_time": "2023-07-13T17:39:54.594Z"
   },
   {
    "duration": 0,
    "start_time": "2023-07-13T17:39:54.595Z"
   },
   {
    "duration": 0,
    "start_time": "2023-07-13T17:39:54.596Z"
   },
   {
    "duration": 1065,
    "start_time": "2023-07-13T17:41:52.689Z"
   },
   {
    "duration": 9,
    "start_time": "2023-07-13T17:41:53.756Z"
   },
   {
    "duration": 492,
    "start_time": "2023-07-13T17:41:53.770Z"
   },
   {
    "duration": 18,
    "start_time": "2023-07-13T17:41:54.264Z"
   },
   {
    "duration": 11,
    "start_time": "2023-07-13T17:41:54.285Z"
   },
   {
    "duration": 10,
    "start_time": "2023-07-13T17:41:54.297Z"
   },
   {
    "duration": 15,
    "start_time": "2023-07-13T17:41:54.309Z"
   },
   {
    "duration": 121,
    "start_time": "2023-07-13T17:41:54.326Z"
   },
   {
    "duration": 0,
    "start_time": "2023-07-13T17:41:54.450Z"
   },
   {
    "duration": 0,
    "start_time": "2023-07-13T17:41:54.463Z"
   },
   {
    "duration": 0,
    "start_time": "2023-07-13T17:41:54.467Z"
   },
   {
    "duration": 0,
    "start_time": "2023-07-13T17:41:54.471Z"
   },
   {
    "duration": 0,
    "start_time": "2023-07-13T17:41:54.472Z"
   },
   {
    "duration": 0,
    "start_time": "2023-07-13T17:41:54.477Z"
   },
   {
    "duration": 0,
    "start_time": "2023-07-13T17:41:54.482Z"
   },
   {
    "duration": 0,
    "start_time": "2023-07-13T17:41:54.487Z"
   },
   {
    "duration": 0,
    "start_time": "2023-07-13T17:41:54.489Z"
   },
   {
    "duration": 0,
    "start_time": "2023-07-13T17:41:54.491Z"
   },
   {
    "duration": 0,
    "start_time": "2023-07-13T17:41:54.492Z"
   },
   {
    "duration": 0,
    "start_time": "2023-07-13T17:41:54.493Z"
   },
   {
    "duration": 0,
    "start_time": "2023-07-13T17:41:54.494Z"
   },
   {
    "duration": 0,
    "start_time": "2023-07-13T17:41:54.496Z"
   },
   {
    "duration": 0,
    "start_time": "2023-07-13T17:41:54.497Z"
   },
   {
    "duration": 0,
    "start_time": "2023-07-13T17:41:54.497Z"
   },
   {
    "duration": 0,
    "start_time": "2023-07-13T17:41:54.498Z"
   },
   {
    "duration": 0,
    "start_time": "2023-07-13T17:41:54.499Z"
   },
   {
    "duration": 0,
    "start_time": "2023-07-13T17:41:54.500Z"
   },
   {
    "duration": 0,
    "start_time": "2023-07-13T17:41:54.501Z"
   },
   {
    "duration": 0,
    "start_time": "2023-07-13T17:41:54.502Z"
   },
   {
    "duration": 0,
    "start_time": "2023-07-13T17:41:54.503Z"
   },
   {
    "duration": 0,
    "start_time": "2023-07-13T17:41:54.504Z"
   },
   {
    "duration": 0,
    "start_time": "2023-07-13T17:41:54.505Z"
   },
   {
    "duration": 0,
    "start_time": "2023-07-13T17:41:54.506Z"
   },
   {
    "duration": 0,
    "start_time": "2023-07-13T17:41:54.507Z"
   },
   {
    "duration": 0,
    "start_time": "2023-07-13T17:41:54.508Z"
   },
   {
    "duration": 0,
    "start_time": "2023-07-13T17:41:54.509Z"
   },
   {
    "duration": 1060,
    "start_time": "2023-07-13T17:43:24.733Z"
   },
   {
    "duration": 1437,
    "start_time": "2023-07-13T17:45:06.788Z"
   },
   {
    "duration": 3,
    "start_time": "2023-07-13T17:45:08.227Z"
   },
   {
    "duration": 282,
    "start_time": "2023-07-13T17:45:08.232Z"
   },
   {
    "duration": 16,
    "start_time": "2023-07-13T17:45:08.516Z"
   },
   {
    "duration": 19,
    "start_time": "2023-07-13T17:45:08.534Z"
   },
   {
    "duration": 34,
    "start_time": "2023-07-13T17:45:08.554Z"
   },
   {
    "duration": 24,
    "start_time": "2023-07-13T17:45:08.589Z"
   },
   {
    "duration": 13,
    "start_time": "2023-07-13T17:45:08.615Z"
   },
   {
    "duration": 12,
    "start_time": "2023-07-13T17:45:08.630Z"
   },
   {
    "duration": 4,
    "start_time": "2023-07-13T17:45:08.644Z"
   },
   {
    "duration": 14,
    "start_time": "2023-07-13T17:45:08.658Z"
   },
   {
    "duration": 13,
    "start_time": "2023-07-13T17:45:08.674Z"
   },
   {
    "duration": 15,
    "start_time": "2023-07-13T17:45:08.689Z"
   },
   {
    "duration": 136,
    "start_time": "2023-07-13T17:45:08.707Z"
   },
   {
    "duration": 0,
    "start_time": "2023-07-13T17:45:08.844Z"
   },
   {
    "duration": 0,
    "start_time": "2023-07-13T17:45:08.846Z"
   },
   {
    "duration": 0,
    "start_time": "2023-07-13T17:45:08.847Z"
   },
   {
    "duration": 0,
    "start_time": "2023-07-13T17:45:08.848Z"
   },
   {
    "duration": 0,
    "start_time": "2023-07-13T17:45:08.849Z"
   },
   {
    "duration": 0,
    "start_time": "2023-07-13T17:45:08.864Z"
   },
   {
    "duration": 0,
    "start_time": "2023-07-13T17:45:08.868Z"
   },
   {
    "duration": 0,
    "start_time": "2023-07-13T17:45:08.869Z"
   },
   {
    "duration": 0,
    "start_time": "2023-07-13T17:45:08.870Z"
   },
   {
    "duration": 0,
    "start_time": "2023-07-13T17:45:08.871Z"
   },
   {
    "duration": 0,
    "start_time": "2023-07-13T17:45:08.872Z"
   },
   {
    "duration": 0,
    "start_time": "2023-07-13T17:45:08.878Z"
   },
   {
    "duration": 0,
    "start_time": "2023-07-13T17:45:08.881Z"
   },
   {
    "duration": 0,
    "start_time": "2023-07-13T17:45:08.882Z"
   },
   {
    "duration": 0,
    "start_time": "2023-07-13T17:45:08.884Z"
   },
   {
    "duration": 0,
    "start_time": "2023-07-13T17:45:08.885Z"
   },
   {
    "duration": 0,
    "start_time": "2023-07-13T17:45:08.886Z"
   },
   {
    "duration": 0,
    "start_time": "2023-07-13T17:45:08.887Z"
   },
   {
    "duration": 0,
    "start_time": "2023-07-13T17:45:08.888Z"
   },
   {
    "duration": 0,
    "start_time": "2023-07-13T17:45:08.889Z"
   },
   {
    "duration": 0,
    "start_time": "2023-07-13T17:45:08.891Z"
   },
   {
    "duration": 0,
    "start_time": "2023-07-13T17:45:08.892Z"
   },
   {
    "duration": 1477,
    "start_time": "2023-07-14T08:52:28.746Z"
   },
   {
    "duration": 288,
    "start_time": "2023-07-14T08:52:30.225Z"
   },
   {
    "duration": 67,
    "start_time": "2023-07-14T08:52:30.515Z"
   },
   {
    "duration": 93,
    "start_time": "2023-07-14T08:52:30.584Z"
   },
   {
    "duration": 71,
    "start_time": "2023-07-14T08:52:30.679Z"
   },
   {
    "duration": 149,
    "start_time": "2023-07-14T08:52:30.752Z"
   },
   {
    "duration": 197,
    "start_time": "2023-07-14T08:52:30.903Z"
   },
   {
    "duration": 0,
    "start_time": "2023-07-14T08:52:31.108Z"
   },
   {
    "duration": 0,
    "start_time": "2023-07-14T08:52:31.110Z"
   },
   {
    "duration": 0,
    "start_time": "2023-07-14T08:52:31.113Z"
   },
   {
    "duration": 0,
    "start_time": "2023-07-14T08:52:31.115Z"
   },
   {
    "duration": 0,
    "start_time": "2023-07-14T08:52:31.117Z"
   },
   {
    "duration": 0,
    "start_time": "2023-07-14T08:52:31.119Z"
   },
   {
    "duration": 0,
    "start_time": "2023-07-14T08:52:31.121Z"
   },
   {
    "duration": 0,
    "start_time": "2023-07-14T08:52:31.122Z"
   },
   {
    "duration": 0,
    "start_time": "2023-07-14T08:52:31.123Z"
   },
   {
    "duration": 0,
    "start_time": "2023-07-14T08:52:31.124Z"
   },
   {
    "duration": 0,
    "start_time": "2023-07-14T08:52:31.125Z"
   },
   {
    "duration": 0,
    "start_time": "2023-07-14T08:52:31.126Z"
   },
   {
    "duration": 0,
    "start_time": "2023-07-14T08:52:31.127Z"
   },
   {
    "duration": 0,
    "start_time": "2023-07-14T08:52:31.130Z"
   },
   {
    "duration": 0,
    "start_time": "2023-07-14T08:52:31.131Z"
   },
   {
    "duration": 0,
    "start_time": "2023-07-14T08:52:31.132Z"
   },
   {
    "duration": 0,
    "start_time": "2023-07-14T08:52:31.137Z"
   },
   {
    "duration": 0,
    "start_time": "2023-07-14T08:52:31.138Z"
   },
   {
    "duration": 0,
    "start_time": "2023-07-14T08:52:31.140Z"
   },
   {
    "duration": 0,
    "start_time": "2023-07-14T08:52:31.141Z"
   },
   {
    "duration": 0,
    "start_time": "2023-07-14T08:52:31.142Z"
   },
   {
    "duration": 0,
    "start_time": "2023-07-14T08:52:31.144Z"
   },
   {
    "duration": 0,
    "start_time": "2023-07-14T08:52:31.145Z"
   },
   {
    "duration": 0,
    "start_time": "2023-07-14T08:52:31.147Z"
   },
   {
    "duration": 0,
    "start_time": "2023-07-14T08:52:31.148Z"
   },
   {
    "duration": 0,
    "start_time": "2023-07-14T08:52:31.149Z"
   },
   {
    "duration": 0,
    "start_time": "2023-07-14T08:52:31.151Z"
   },
   {
    "duration": 0,
    "start_time": "2023-07-14T08:52:31.152Z"
   },
   {
    "duration": 8,
    "start_time": "2023-07-14T08:53:27.536Z"
   },
   {
    "duration": 4,
    "start_time": "2023-07-14T08:53:34.556Z"
   },
   {
    "duration": 104,
    "start_time": "2023-07-14T08:53:34.562Z"
   },
   {
    "duration": 10,
    "start_time": "2023-07-14T08:53:34.668Z"
   },
   {
    "duration": 16,
    "start_time": "2023-07-14T08:53:34.680Z"
   },
   {
    "duration": 12,
    "start_time": "2023-07-14T08:53:34.699Z"
   },
   {
    "duration": 17,
    "start_time": "2023-07-14T08:53:34.713Z"
   },
   {
    "duration": 10,
    "start_time": "2023-07-14T08:53:34.828Z"
   },
   {
    "duration": 20,
    "start_time": "2023-07-14T08:53:34.840Z"
   },
   {
    "duration": 3,
    "start_time": "2023-07-14T08:53:34.862Z"
   },
   {
    "duration": 11,
    "start_time": "2023-07-14T08:53:34.867Z"
   },
   {
    "duration": 21,
    "start_time": "2023-07-14T08:53:34.880Z"
   },
   {
    "duration": 9,
    "start_time": "2023-07-14T08:53:34.903Z"
   },
   {
    "duration": 25,
    "start_time": "2023-07-14T08:53:34.914Z"
   },
   {
    "duration": 0,
    "start_time": "2023-07-14T08:53:34.941Z"
   },
   {
    "duration": 0,
    "start_time": "2023-07-14T08:53:34.942Z"
   },
   {
    "duration": 0,
    "start_time": "2023-07-14T08:53:34.943Z"
   },
   {
    "duration": 0,
    "start_time": "2023-07-14T08:53:34.944Z"
   },
   {
    "duration": 239,
    "start_time": "2023-07-14T08:53:35.211Z"
   },
   {
    "duration": 234,
    "start_time": "2023-07-14T08:53:35.452Z"
   },
   {
    "duration": 255,
    "start_time": "2023-07-14T08:53:35.687Z"
   },
   {
    "duration": 22,
    "start_time": "2023-07-14T08:53:35.945Z"
   },
   {
    "duration": 0,
    "start_time": "2023-07-14T08:53:35.970Z"
   },
   {
    "duration": 0,
    "start_time": "2023-07-14T08:53:35.971Z"
   },
   {
    "duration": 0,
    "start_time": "2023-07-14T08:53:35.973Z"
   },
   {
    "duration": 0,
    "start_time": "2023-07-14T08:53:35.975Z"
   },
   {
    "duration": 0,
    "start_time": "2023-07-14T08:53:35.978Z"
   },
   {
    "duration": 1,
    "start_time": "2023-07-14T08:53:35.979Z"
   },
   {
    "duration": 0,
    "start_time": "2023-07-14T08:53:35.981Z"
   },
   {
    "duration": 0,
    "start_time": "2023-07-14T08:53:36.016Z"
   },
   {
    "duration": 0,
    "start_time": "2023-07-14T08:53:36.018Z"
   },
   {
    "duration": 0,
    "start_time": "2023-07-14T08:53:36.021Z"
   },
   {
    "duration": 0,
    "start_time": "2023-07-14T08:53:36.023Z"
   },
   {
    "duration": 0,
    "start_time": "2023-07-14T08:53:36.025Z"
   },
   {
    "duration": 0,
    "start_time": "2023-07-14T08:53:36.028Z"
   },
   {
    "duration": 0,
    "start_time": "2023-07-14T08:53:36.029Z"
   },
   {
    "duration": 28,
    "start_time": "2023-07-14T08:53:52.947Z"
   },
   {
    "duration": 3,
    "start_time": "2023-07-14T08:53:59.863Z"
   },
   {
    "duration": 83,
    "start_time": "2023-07-14T08:53:59.868Z"
   },
   {
    "duration": 11,
    "start_time": "2023-07-14T08:53:59.952Z"
   },
   {
    "duration": 19,
    "start_time": "2023-07-14T08:53:59.964Z"
   },
   {
    "duration": 23,
    "start_time": "2023-07-14T08:53:59.987Z"
   },
   {
    "duration": 93,
    "start_time": "2023-07-14T08:54:00.013Z"
   },
   {
    "duration": 45,
    "start_time": "2023-07-14T08:54:00.109Z"
   },
   {
    "duration": 37,
    "start_time": "2023-07-14T08:54:00.155Z"
   },
   {
    "duration": 53,
    "start_time": "2023-07-14T08:54:00.194Z"
   },
   {
    "duration": 121,
    "start_time": "2023-07-14T08:54:00.250Z"
   },
   {
    "duration": 109,
    "start_time": "2023-07-14T08:54:00.372Z"
   },
   {
    "duration": 49,
    "start_time": "2023-07-14T08:54:00.483Z"
   },
   {
    "duration": 67,
    "start_time": "2023-07-14T08:54:00.534Z"
   },
   {
    "duration": 0,
    "start_time": "2023-07-14T08:54:00.603Z"
   },
   {
    "duration": 0,
    "start_time": "2023-07-14T08:54:00.605Z"
   },
   {
    "duration": 0,
    "start_time": "2023-07-14T08:54:00.606Z"
   },
   {
    "duration": 0,
    "start_time": "2023-07-14T08:54:00.608Z"
   },
   {
    "duration": 0,
    "start_time": "2023-07-14T08:54:00.611Z"
   },
   {
    "duration": 0,
    "start_time": "2023-07-14T08:54:00.613Z"
   },
   {
    "duration": 0,
    "start_time": "2023-07-14T08:54:00.614Z"
   },
   {
    "duration": 0,
    "start_time": "2023-07-14T08:54:00.617Z"
   },
   {
    "duration": 0,
    "start_time": "2023-07-14T08:54:00.619Z"
   },
   {
    "duration": 0,
    "start_time": "2023-07-14T08:54:00.621Z"
   },
   {
    "duration": 0,
    "start_time": "2023-07-14T08:54:00.623Z"
   },
   {
    "duration": 1,
    "start_time": "2023-07-14T08:54:00.624Z"
   },
   {
    "duration": 0,
    "start_time": "2023-07-14T08:54:00.626Z"
   },
   {
    "duration": 0,
    "start_time": "2023-07-14T08:54:00.629Z"
   },
   {
    "duration": 0,
    "start_time": "2023-07-14T08:54:00.632Z"
   },
   {
    "duration": 0,
    "start_time": "2023-07-14T08:54:00.635Z"
   },
   {
    "duration": 0,
    "start_time": "2023-07-14T08:54:00.636Z"
   },
   {
    "duration": 0,
    "start_time": "2023-07-14T08:54:00.637Z"
   },
   {
    "duration": 0,
    "start_time": "2023-07-14T08:54:00.639Z"
   },
   {
    "duration": 1,
    "start_time": "2023-07-14T08:54:00.639Z"
   },
   {
    "duration": 0,
    "start_time": "2023-07-14T08:54:00.641Z"
   },
   {
    "duration": 0,
    "start_time": "2023-07-14T08:54:00.642Z"
   },
   {
    "duration": 16,
    "start_time": "2023-07-14T08:54:32.462Z"
   },
   {
    "duration": 8,
    "start_time": "2023-07-14T08:54:36.762Z"
   },
   {
    "duration": 8,
    "start_time": "2023-07-14T08:54:39.082Z"
   },
   {
    "duration": 239,
    "start_time": "2023-07-14T08:54:42.684Z"
   },
   {
    "duration": 90,
    "start_time": "2023-07-14T08:54:46.442Z"
   },
   {
    "duration": 4,
    "start_time": "2023-07-14T08:54:53.348Z"
   },
   {
    "duration": 113,
    "start_time": "2023-07-14T08:54:53.354Z"
   },
   {
    "duration": 10,
    "start_time": "2023-07-14T08:54:53.469Z"
   },
   {
    "duration": 24,
    "start_time": "2023-07-14T08:54:53.481Z"
   },
   {
    "duration": 36,
    "start_time": "2023-07-14T08:54:53.507Z"
   },
   {
    "duration": 37,
    "start_time": "2023-07-14T08:54:53.544Z"
   },
   {
    "duration": 8,
    "start_time": "2023-07-14T08:54:53.583Z"
   },
   {
    "duration": 34,
    "start_time": "2023-07-14T08:54:53.593Z"
   },
   {
    "duration": 21,
    "start_time": "2023-07-14T08:54:53.629Z"
   },
   {
    "duration": 25,
    "start_time": "2023-07-14T08:54:53.652Z"
   },
   {
    "duration": 19,
    "start_time": "2023-07-14T08:54:53.679Z"
   },
   {
    "duration": 22,
    "start_time": "2023-07-14T08:54:53.700Z"
   },
   {
    "duration": 31,
    "start_time": "2023-07-14T08:54:53.725Z"
   },
   {
    "duration": 15,
    "start_time": "2023-07-14T08:54:53.759Z"
   },
   {
    "duration": 11,
    "start_time": "2023-07-14T08:54:53.776Z"
   },
   {
    "duration": 229,
    "start_time": "2023-07-14T08:54:53.789Z"
   },
   {
    "duration": 102,
    "start_time": "2023-07-14T08:54:54.031Z"
   },
   {
    "duration": 216,
    "start_time": "2023-07-14T08:54:54.135Z"
   },
   {
    "duration": 234,
    "start_time": "2023-07-14T08:54:54.353Z"
   },
   {
    "duration": 208,
    "start_time": "2023-07-14T08:54:54.589Z"
   },
   {
    "duration": 39,
    "start_time": "2023-07-14T08:54:54.799Z"
   },
   {
    "duration": 16,
    "start_time": "2023-07-14T08:54:54.839Z"
   },
   {
    "duration": 33,
    "start_time": "2023-07-14T08:54:54.856Z"
   },
   {
    "duration": 130,
    "start_time": "2023-07-14T08:54:54.891Z"
   },
   {
    "duration": 321,
    "start_time": "2023-07-14T08:54:55.024Z"
   },
   {
    "duration": 304,
    "start_time": "2023-07-14T08:54:55.347Z"
   },
   {
    "duration": 72,
    "start_time": "2023-07-14T08:54:55.652Z"
   },
   {
    "duration": 32,
    "start_time": "2023-07-14T08:54:55.726Z"
   },
   {
    "duration": 14,
    "start_time": "2023-07-14T08:54:55.760Z"
   },
   {
    "duration": 56,
    "start_time": "2023-07-14T08:54:55.776Z"
   },
   {
    "duration": 46,
    "start_time": "2023-07-14T08:54:55.835Z"
   },
   {
    "duration": 1878,
    "start_time": "2023-07-14T08:54:55.883Z"
   },
   {
    "duration": 1881,
    "start_time": "2023-07-14T08:54:57.763Z"
   },
   {
    "duration": 7,
    "start_time": "2023-07-14T08:54:59.646Z"
   },
   {
    "duration": 22,
    "start_time": "2023-07-14T08:54:59.654Z"
   },
   {
    "duration": 1053,
    "start_time": "2023-07-14T11:18:32.597Z"
   },
   {
    "duration": 365,
    "start_time": "2023-07-14T11:18:33.653Z"
   },
   {
    "duration": 15,
    "start_time": "2023-07-14T11:18:34.020Z"
   },
   {
    "duration": 12,
    "start_time": "2023-07-14T11:18:34.036Z"
   },
   {
    "duration": 23,
    "start_time": "2023-07-14T11:18:34.050Z"
   },
   {
    "duration": 14,
    "start_time": "2023-07-14T11:18:34.076Z"
   },
   {
    "duration": 8,
    "start_time": "2023-07-14T11:18:34.091Z"
   },
   {
    "duration": 12,
    "start_time": "2023-07-14T11:18:34.101Z"
   },
   {
    "duration": 4,
    "start_time": "2023-07-14T11:18:34.114Z"
   },
   {
    "duration": 8,
    "start_time": "2023-07-14T11:18:34.119Z"
   },
   {
    "duration": 8,
    "start_time": "2023-07-14T11:18:34.156Z"
   },
   {
    "duration": 15,
    "start_time": "2023-07-14T11:18:34.166Z"
   },
   {
    "duration": 22,
    "start_time": "2023-07-14T11:18:34.183Z"
   },
   {
    "duration": 7,
    "start_time": "2023-07-14T11:18:34.208Z"
   },
   {
    "duration": 8,
    "start_time": "2023-07-14T11:18:34.216Z"
   },
   {
    "duration": 219,
    "start_time": "2023-07-14T11:18:34.226Z"
   },
   {
    "duration": 114,
    "start_time": "2023-07-14T11:18:34.447Z"
   },
   {
    "duration": 213,
    "start_time": "2023-07-14T11:18:34.564Z"
   },
   {
    "duration": 212,
    "start_time": "2023-07-14T11:18:34.780Z"
   },
   {
    "duration": 193,
    "start_time": "2023-07-14T11:18:34.994Z"
   },
   {
    "duration": 28,
    "start_time": "2023-07-14T11:18:35.189Z"
   },
   {
    "duration": 38,
    "start_time": "2023-07-14T11:18:35.219Z"
   },
   {
    "duration": 18,
    "start_time": "2023-07-14T11:18:35.261Z"
   },
   {
    "duration": 18,
    "start_time": "2023-07-14T11:18:35.280Z"
   },
   {
    "duration": 271,
    "start_time": "2023-07-14T11:18:35.300Z"
   },
   {
    "duration": 291,
    "start_time": "2023-07-14T11:18:35.573Z"
   },
   {
    "duration": 68,
    "start_time": "2023-07-14T11:18:35.866Z"
   },
   {
    "duration": 50,
    "start_time": "2023-07-14T11:18:35.935Z"
   },
   {
    "duration": 5,
    "start_time": "2023-07-14T11:18:35.986Z"
   },
   {
    "duration": 13,
    "start_time": "2023-07-14T11:18:35.993Z"
   },
   {
    "duration": 15,
    "start_time": "2023-07-14T11:18:36.007Z"
   },
   {
    "duration": 1678,
    "start_time": "2023-07-14T11:18:36.023Z"
   },
   {
    "duration": 2157,
    "start_time": "2023-07-14T11:18:37.702Z"
   },
   {
    "duration": 15,
    "start_time": "2023-07-14T11:18:39.862Z"
   },
   {
    "duration": 22,
    "start_time": "2023-07-14T11:18:39.879Z"
   },
   {
    "duration": 1482,
    "start_time": "2023-07-14T13:36:15.625Z"
   },
   {
    "duration": 214,
    "start_time": "2023-07-14T13:36:17.110Z"
   },
   {
    "duration": 15,
    "start_time": "2023-07-14T13:36:17.326Z"
   },
   {
    "duration": 17,
    "start_time": "2023-07-14T13:36:17.343Z"
   },
   {
    "duration": 20,
    "start_time": "2023-07-14T13:36:17.361Z"
   },
   {
    "duration": 21,
    "start_time": "2023-07-14T13:36:17.382Z"
   },
   {
    "duration": 14,
    "start_time": "2023-07-14T13:36:17.405Z"
   },
   {
    "duration": 188,
    "start_time": "2023-07-14T13:36:17.420Z"
   },
   {
    "duration": 123,
    "start_time": "2023-07-14T13:36:17.610Z"
   },
   {
    "duration": 132,
    "start_time": "2023-07-14T13:36:17.736Z"
   },
   {
    "duration": 42,
    "start_time": "2023-07-14T13:36:17.870Z"
   },
   {
    "duration": 17,
    "start_time": "2023-07-14T13:36:17.914Z"
   },
   {
    "duration": 18,
    "start_time": "2023-07-14T13:36:17.933Z"
   },
   {
    "duration": 9,
    "start_time": "2023-07-14T13:36:17.954Z"
   },
   {
    "duration": 9,
    "start_time": "2023-07-14T13:36:17.965Z"
   },
   {
    "duration": 226,
    "start_time": "2023-07-14T13:36:17.975Z"
   },
   {
    "duration": 102,
    "start_time": "2023-07-14T13:36:18.208Z"
   },
   {
    "duration": 199,
    "start_time": "2023-07-14T13:36:18.312Z"
   },
   {
    "duration": 220,
    "start_time": "2023-07-14T13:36:18.513Z"
   },
   {
    "duration": 194,
    "start_time": "2023-07-14T13:36:18.735Z"
   },
   {
    "duration": 45,
    "start_time": "2023-07-14T13:36:18.931Z"
   },
   {
    "duration": 43,
    "start_time": "2023-07-14T13:36:18.979Z"
   },
   {
    "duration": 114,
    "start_time": "2023-07-14T13:36:19.024Z"
   },
   {
    "duration": 73,
    "start_time": "2023-07-14T13:36:19.140Z"
   },
   {
    "duration": 446,
    "start_time": "2023-07-14T13:36:19.215Z"
   },
   {
    "duration": 313,
    "start_time": "2023-07-14T13:36:19.663Z"
   },
   {
    "duration": 177,
    "start_time": "2023-07-14T13:36:19.978Z"
   },
   {
    "duration": 23,
    "start_time": "2023-07-14T13:36:20.158Z"
   },
   {
    "duration": 26,
    "start_time": "2023-07-14T13:36:20.183Z"
   },
   {
    "duration": 35,
    "start_time": "2023-07-14T13:36:20.211Z"
   },
   {
    "duration": 16,
    "start_time": "2023-07-14T13:36:20.248Z"
   },
   {
    "duration": 1562,
    "start_time": "2023-07-14T13:36:20.266Z"
   },
   {
    "duration": 1983,
    "start_time": "2023-07-14T13:36:21.830Z"
   },
   {
    "duration": 8,
    "start_time": "2023-07-14T13:36:23.815Z"
   },
   {
    "duration": 29,
    "start_time": "2023-07-14T13:36:23.825Z"
   },
   {
    "duration": 20,
    "start_time": "2023-07-14T13:36:46.265Z"
   },
   {
    "duration": 20,
    "start_time": "2023-07-14T13:37:54.430Z"
   },
   {
    "duration": 4,
    "start_time": "2023-07-14T13:40:31.148Z"
   },
   {
    "duration": 70,
    "start_time": "2023-07-14T13:40:31.222Z"
   },
   {
    "duration": 10,
    "start_time": "2023-07-14T13:40:31.294Z"
   },
   {
    "duration": 59,
    "start_time": "2023-07-14T13:40:31.305Z"
   },
   {
    "duration": 51,
    "start_time": "2023-07-14T13:40:31.367Z"
   },
   {
    "duration": 56,
    "start_time": "2023-07-14T13:40:31.420Z"
   },
   {
    "duration": 52,
    "start_time": "2023-07-14T13:40:31.478Z"
   },
   {
    "duration": 39,
    "start_time": "2023-07-14T13:40:31.532Z"
   },
   {
    "duration": 71,
    "start_time": "2023-07-14T13:40:31.573Z"
   },
   {
    "duration": 28,
    "start_time": "2023-07-14T13:40:31.646Z"
   },
   {
    "duration": 35,
    "start_time": "2023-07-14T13:40:31.677Z"
   },
   {
    "duration": 21,
    "start_time": "2023-07-14T13:40:31.714Z"
   },
   {
    "duration": 30,
    "start_time": "2023-07-14T13:40:31.737Z"
   },
   {
    "duration": 45,
    "start_time": "2023-07-14T13:40:31.769Z"
   },
   {
    "duration": 52,
    "start_time": "2023-07-14T13:40:31.818Z"
   },
   {
    "duration": 48,
    "start_time": "2023-07-14T13:40:31.871Z"
   },
   {
    "duration": 200,
    "start_time": "2023-07-14T13:40:31.921Z"
   },
   {
    "duration": 112,
    "start_time": "2023-07-14T13:40:32.124Z"
   },
   {
    "duration": 211,
    "start_time": "2023-07-14T13:40:32.239Z"
   },
   {
    "duration": 215,
    "start_time": "2023-07-14T13:40:32.452Z"
   },
   {
    "duration": 190,
    "start_time": "2023-07-14T13:40:32.669Z"
   },
   {
    "duration": 31,
    "start_time": "2023-07-14T13:40:32.861Z"
   },
   {
    "duration": 16,
    "start_time": "2023-07-14T13:40:32.908Z"
   },
   {
    "duration": 23,
    "start_time": "2023-07-14T13:40:32.925Z"
   },
   {
    "duration": 21,
    "start_time": "2023-07-14T13:40:32.950Z"
   },
   {
    "duration": 305,
    "start_time": "2023-07-14T13:40:32.973Z"
   },
   {
    "duration": 508,
    "start_time": "2023-07-14T13:40:33.280Z"
   },
   {
    "duration": 66,
    "start_time": "2023-07-14T13:40:33.791Z"
   },
   {
    "duration": 24,
    "start_time": "2023-07-14T13:40:33.858Z"
   },
   {
    "duration": 36,
    "start_time": "2023-07-14T13:40:33.884Z"
   },
   {
    "duration": 20,
    "start_time": "2023-07-14T13:40:33.922Z"
   },
   {
    "duration": 39,
    "start_time": "2023-07-14T13:40:33.944Z"
   },
   {
    "duration": 1680,
    "start_time": "2023-07-14T13:40:33.985Z"
   },
   {
    "duration": 1911,
    "start_time": "2023-07-14T13:40:35.667Z"
   },
   {
    "duration": 7,
    "start_time": "2023-07-14T13:40:37.581Z"
   },
   {
    "duration": 25,
    "start_time": "2023-07-14T13:40:37.590Z"
   },
   {
    "duration": 196,
    "start_time": "2023-07-14T13:45:04.101Z"
   },
   {
    "duration": 104,
    "start_time": "2023-07-14T13:50:57.032Z"
   },
   {
    "duration": 207,
    "start_time": "2023-07-14T13:51:03.591Z"
   },
   {
    "duration": 222,
    "start_time": "2023-07-14T13:57:58.876Z"
   },
   {
    "duration": 211,
    "start_time": "2023-07-14T13:58:51.448Z"
   },
   {
    "duration": 248,
    "start_time": "2023-07-14T13:59:51.124Z"
   },
   {
    "duration": 239,
    "start_time": "2023-07-14T14:01:13.744Z"
   },
   {
    "duration": 332,
    "start_time": "2023-07-14T14:01:25.944Z"
   },
   {
    "duration": 116,
    "start_time": "2023-07-14T14:06:18.898Z"
   },
   {
    "duration": 11,
    "start_time": "2023-07-14T14:06:26.960Z"
   },
   {
    "duration": 9,
    "start_time": "2023-07-14T14:07:42.880Z"
   },
   {
    "duration": 37,
    "start_time": "2023-07-14T14:07:55.853Z"
   },
   {
    "duration": 6,
    "start_time": "2023-07-14T14:09:22.140Z"
   },
   {
    "duration": 6,
    "start_time": "2023-07-14T14:11:47.841Z"
   },
   {
    "duration": 6,
    "start_time": "2023-07-14T14:12:40.968Z"
   },
   {
    "duration": 6,
    "start_time": "2023-07-14T14:15:54.674Z"
   },
   {
    "duration": 6,
    "start_time": "2023-07-14T14:16:06.203Z"
   },
   {
    "duration": 20,
    "start_time": "2023-07-14T14:16:28.392Z"
   },
   {
    "duration": 6,
    "start_time": "2023-07-14T14:16:40.651Z"
   },
   {
    "duration": 7,
    "start_time": "2023-07-14T14:17:28.681Z"
   },
   {
    "duration": 461,
    "start_time": "2023-07-14T14:19:24.718Z"
   },
   {
    "duration": 5,
    "start_time": "2023-07-14T14:19:39.400Z"
   },
   {
    "duration": 17,
    "start_time": "2023-07-14T14:32:17.534Z"
   },
   {
    "duration": 14,
    "start_time": "2023-07-14T14:32:28.261Z"
   },
   {
    "duration": 118,
    "start_time": "2023-07-14T14:35:11.983Z"
   },
   {
    "duration": 92,
    "start_time": "2023-07-14T14:35:50.404Z"
   },
   {
    "duration": 22,
    "start_time": "2023-07-14T14:38:52.543Z"
   },
   {
    "duration": 22,
    "start_time": "2023-07-14T14:39:08.864Z"
   },
   {
    "duration": 47,
    "start_time": "2023-07-14T14:40:03.082Z"
   },
   {
    "duration": 17,
    "start_time": "2023-07-14T14:44:58.438Z"
   },
   {
    "duration": 339,
    "start_time": "2023-07-14T14:45:53.234Z"
   },
   {
    "duration": 409,
    "start_time": "2023-07-14T14:46:20.671Z"
   },
   {
    "duration": 8,
    "start_time": "2023-07-14T14:48:40.178Z"
   },
   {
    "duration": 16,
    "start_time": "2023-07-14T14:51:53.830Z"
   },
   {
    "duration": 1200,
    "start_time": "2023-07-14T16:57:40.130Z"
   },
   {
    "duration": 68,
    "start_time": "2023-07-14T16:57:41.332Z"
   },
   {
    "duration": 13,
    "start_time": "2023-07-14T16:57:41.401Z"
   },
   {
    "duration": 29,
    "start_time": "2023-07-14T16:57:41.416Z"
   },
   {
    "duration": 30,
    "start_time": "2023-07-14T16:57:41.447Z"
   },
   {
    "duration": 26,
    "start_time": "2023-07-14T16:57:41.479Z"
   },
   {
    "duration": 14,
    "start_time": "2023-07-14T16:57:41.508Z"
   },
   {
    "duration": 12,
    "start_time": "2023-07-14T16:57:41.524Z"
   },
   {
    "duration": 14,
    "start_time": "2023-07-14T16:57:41.537Z"
   },
   {
    "duration": 27,
    "start_time": "2023-07-14T16:57:41.553Z"
   },
   {
    "duration": 41,
    "start_time": "2023-07-14T16:57:41.582Z"
   },
   {
    "duration": 12,
    "start_time": "2023-07-14T16:57:41.624Z"
   },
   {
    "duration": 5,
    "start_time": "2023-07-14T16:57:41.637Z"
   },
   {
    "duration": 23,
    "start_time": "2023-07-14T16:57:41.645Z"
   },
   {
    "duration": 12,
    "start_time": "2023-07-14T16:57:41.670Z"
   },
   {
    "duration": 29,
    "start_time": "2023-07-14T16:57:41.684Z"
   },
   {
    "duration": 199,
    "start_time": "2023-07-14T16:57:41.714Z"
   },
   {
    "duration": 88,
    "start_time": "2023-07-14T16:57:41.914Z"
   },
   {
    "duration": 197,
    "start_time": "2023-07-14T16:57:42.004Z"
   },
   {
    "duration": 209,
    "start_time": "2023-07-14T16:57:42.203Z"
   },
   {
    "duration": 203,
    "start_time": "2023-07-14T16:57:42.413Z"
   },
   {
    "duration": 5,
    "start_time": "2023-07-14T16:57:42.617Z"
   },
   {
    "duration": 52,
    "start_time": "2023-07-14T16:57:42.623Z"
   },
   {
    "duration": 15,
    "start_time": "2023-07-14T16:57:42.677Z"
   },
   {
    "duration": 16,
    "start_time": "2023-07-14T16:57:42.693Z"
   },
   {
    "duration": 18,
    "start_time": "2023-07-14T16:57:42.711Z"
   },
   {
    "duration": 315,
    "start_time": "2023-07-14T16:57:42.731Z"
   },
   {
    "duration": 303,
    "start_time": "2023-07-14T16:57:43.048Z"
   },
   {
    "duration": 156,
    "start_time": "2023-07-14T16:57:43.356Z"
   },
   {
    "duration": 22,
    "start_time": "2023-07-14T16:57:43.513Z"
   },
   {
    "duration": 23,
    "start_time": "2023-07-14T16:57:43.537Z"
   },
   {
    "duration": 7,
    "start_time": "2023-07-14T16:57:43.570Z"
   },
   {
    "duration": 13,
    "start_time": "2023-07-14T16:57:43.580Z"
   },
   {
    "duration": 1523,
    "start_time": "2023-07-14T16:57:43.595Z"
   },
   {
    "duration": 1820,
    "start_time": "2023-07-14T16:57:45.120Z"
   },
   {
    "duration": 6,
    "start_time": "2023-07-14T16:57:46.942Z"
   },
   {
    "duration": 9,
    "start_time": "2023-07-14T16:57:46.956Z"
   },
   {
    "duration": 6,
    "start_time": "2023-07-14T16:58:41.493Z"
   }
  ],
  "kernelspec": {
   "display_name": "Python 3 (ipykernel)",
   "language": "python",
   "name": "python3"
  },
  "language_info": {
   "codemirror_mode": {
    "name": "ipython",
    "version": 3
   },
   "file_extension": ".py",
   "mimetype": "text/x-python",
   "name": "python",
   "nbconvert_exporter": "python",
   "pygments_lexer": "ipython3",
   "version": "3.9.18"
  },
  "toc": {
   "base_numbering": 1,
   "nav_menu": {},
   "number_sections": true,
   "sideBar": true,
   "skip_h1_title": true,
   "title_cell": "Table of Contents",
   "title_sidebar": "Contents",
   "toc_cell": false,
   "toc_position": {},
   "toc_section_display": true,
   "toc_window_display": true
  }
 },
 "nbformat": 4,
 "nbformat_minor": 5
}
